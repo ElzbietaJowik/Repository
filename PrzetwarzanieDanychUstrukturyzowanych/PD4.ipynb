{
 "cells": [
  {
   "cell_type": "markdown",
   "metadata": {},
   "source": [
    "# Przetwarzanie Danych Ustrukturyzowanych [PDU]\n",
    "## Praca domowa nr 4\n",
    "### Autor: Elżbieta Jowik\n",
    "#### Termin oddania pracy: 10.06.2019"
   ]
  },
  {
   "cell_type": "markdown",
   "metadata": {},
   "source": [
    "## 0.1. Importowanie pakietów."
   ]
  },
  {
   "cell_type": "code",
   "execution_count": 1,
   "metadata": {},
   "outputs": [],
   "source": [
    "import numpy as np\n",
    "import pandas as pd\n",
    "import os\n",
    "import tempfile\n",
    "import sqlite3"
   ]
  },
  {
   "cell_type": "markdown",
   "metadata": {},
   "source": [
    "## 0.2. Wczytanie danych."
   ]
  },
  {
   "cell_type": "code",
   "execution_count": 67,
   "metadata": {},
   "outputs": [],
   "source": [
    "# Wczytujemy pliki\n",
    "# 1. najpierw wylistowujemy zawartość katalogu, w którym znajdują się dane"
   ]
  },
  {
   "cell_type": "code",
   "execution_count": 3,
   "metadata": {},
   "outputs": [
    {
     "data": {
      "text/plain": [
       "['Badges.csv',\n",
       " 'PostLinks.csv',\n",
       " 'Posts.csv',\n",
       " 'Votes.csv',\n",
       " 'Tags.csv',\n",
       " 'Comments.csv',\n",
       " 'Users.csv']"
      ]
     },
     "execution_count": 3,
     "metadata": {},
     "output_type": "execute_result"
    }
   ],
   "source": [
    "listing = os.listdir(\"/home/elzbieta/pdu_R/PD1/travel_stackexchange_com\")\n",
    "listing"
   ]
  },
  {
   "cell_type": "code",
   "execution_count": 4,
   "metadata": {},
   "outputs": [],
   "source": [
    "# 2. następnie na pomocą pętli wczytujemy pliki, jednocześnie przypisując im odpowiednie nazwy."
   ]
  },
  {
   "cell_type": "code",
   "execution_count": 4,
   "metadata": {},
   "outputs": [],
   "source": [
    "n = len(listing)\n",
    "names = [None for i in range(n)]\n",
    "\n",
    "for i in range(n):\n",
    "    names[i] = listing[i].split(\".\")[0]\n",
    "    df = pd.read_csv(listing[i])\n",
    "    vars()[names[i]] = df"
   ]
  },
  {
   "cell_type": "code",
   "execution_count": 5,
   "metadata": {},
   "outputs": [],
   "source": [
    "# Tworzymy sobie tymczasową bazę danych jak na laboratoriach\n",
    "baza = os.path.join(tempfile.mkdtemp(), \"baza.db\")\n",
    "\n",
    "if os.path.isfile(baza):\n",
    "    os.remove(baza)\n",
    "\n",
    "conn = sqlite3.connect(baza)\n",
    "# Wykorzystujemy funkcję to_sql\n",
    "Badges.to_sql(\"Badges\", conn)\n",
    "PostLinks.to_sql(\"PostLinks\", conn)\n",
    "Posts.to_sql(\"Posts\", conn)\n",
    "Votes.to_sql(\"Votes\", conn)\n",
    "Tags.to_sql(\"Tags\", conn)\n",
    "Comments.to_sql(\"Comments\", conn)\n",
    "Users.to_sql(\"Users\", conn)"
   ]
  },
  {
   "cell_type": "markdown",
   "metadata": {},
   "source": [
    "# Zadanie 1."
   ]
  },
  {
   "cell_type": "markdown",
   "metadata": {},
   "source": [
    "## 1.1. Jaki rezultat mamy osiągnąć?\n",
    "### W tym zadaniu chcemy wydobyć informacje o użytkownikach, których posty w ogólności cieszyły się największą popularnością, czyli 10 użytkowników, których posty dostały najwięcej 'gwiazdek'. \n",
    "Kryterium oceny popularności będzie stanowić zsumowana wartość zmiennej FavoriteCount dla poszczególnych użytkowników, którą od teraz określać będziemy jako _FavoriteTotal_. \n",
    "Dane, na których nam zależy to nazwa wiek i lokalizacja użytkowników, ich napopularniejszy post (_MostFavoriteQuestion_), wartość zmiennej FavoriteCount dla tego postu (_MostFavoriteQuestionLikes_) oraz wartość zmiennej _FavoriteTotal_. \n",
    "Uwaga! Typ postów, które będziemy rozważać to 1. "
   ]
  },
  {
   "cell_type": "code",
   "execution_count": 6,
   "metadata": {},
   "outputs": [],
   "source": [
    "sql_1 = pd.read_sql_query(\n",
    "    \"\"\"\n",
    "    SELECT\n",
    "        Users.DisplayName,\n",
    "        Users.Age,\n",
    "        Users.Location,\n",
    "        SUM(Posts.FavoriteCount) AS FavoriteTotal,\n",
    "        Posts.Title AS MostFavoriteQuestion,\n",
    "        MAX(Posts.FavoriteCount) AS MostFavoriteQuestionLikes\n",
    "    FROM Posts\n",
    "    JOIN Users ON Users.Id=Posts.OwnerUserId\n",
    "    WHERE Posts.PostTypeId=1\n",
    "    GROUP BY OwnerUserId\n",
    "    ORDER BY FavoriteTotal DESC\n",
    "    LIMIT 10\n",
    "    \"\"\", conn)"
   ]
  },
  {
   "cell_type": "code",
   "execution_count": 7,
   "metadata": {},
   "outputs": [],
   "source": [
    "# Wybieramy te wiersze, dla których wartości w kolumie PostType wynosi 1, \n",
    "df = Posts[Posts.PostTypeId==1]\n",
    "# grupujemy po zmiennej \"OwnerUserId\"\n",
    "tmp = df.groupby('OwnerUserId')\n",
    "# tuple: (grupa, odpowiadajaca jej DF)\n",
    "# for grupa, ramka in df:\n",
    "#    print(ramka)"
   ]
  },
  {
   "cell_type": "code",
   "execution_count": 8,
   "metadata": {},
   "outputs": [],
   "source": [
    "# W poszczególnych grupach na kolumnie FavoriteCount agregujemy funkcje sum i max\n",
    "tmp1 =  pd.DataFrame([{'FavoriteTotal' : ramka.FavoriteCount.sum(skipna = True),\n",
    "                       'OwnerUserId': grupa} \n",
    "                        for (grupa, ramka) in tmp])\n",
    "\n",
    "tmp2 = pd.DataFrame([{'MostFavoriteQuestionLikes': ramka.FavoriteCount.max(skipna = True),\n",
    "                      'OwnerUserId': grupa} \n",
    "                       for (grupa, ramka) in tmp])"
   ]
  },
  {
   "cell_type": "code",
   "execution_count": 9,
   "metadata": {
    "scrolled": false
   },
   "outputs": [],
   "source": [
    "# W tym kroku najpierw z ramki Posts wybieramy wiersze dla których PostTypeId == 1 oraz kolumny: \n",
    "# 'FavoriteCount', 'Title', 'OwnerUserId'\n",
    "# Następnie łączymy ją ze stworzoną wyżej ramką, w której mamy maksymalne mawrtości zmiennej\n",
    "# FavoriteCount \n",
    "# Kryteria złączenia to równe Id użytkowników (OwnerUserId) oraz równość zmiennych \n",
    "# \"MostFavoriteQuestionLikes\" i \"FavoriteCount\"\n",
    "\n",
    "tmp3 = Posts[Posts.PostTypeId == 1][['FavoriteCount', 'Title', 'OwnerUserId']].merge(tmp2, right_on = [\n",
    "    \"OwnerUserId\", \"MostFavoriteQuestionLikes\"], left_on = [\"OwnerUserId\", \"FavoriteCount\"]).drop(\n",
    "    columns = 'FavoriteCount')"
   ]
  },
  {
   "cell_type": "code",
   "execution_count": 10,
   "metadata": {},
   "outputs": [],
   "source": [
    "# Ramkę wynikową łączymy z tą, w której w grupach sumowaliśmy wartości FavoriteCount wg równości\n",
    "# zmiennej OwnerUserId\n",
    "tmp4 = tmp3.merge(tmp1, on = 'OwnerUserId')"
   ]
  },
  {
   "cell_type": "code",
   "execution_count": 11,
   "metadata": {},
   "outputs": [],
   "source": [
    "# Tak uzyskaną ramkę danych łączymy z kolumnami 'DisplayName', 'Age', 'Location', 'Id' z ramki Users.\n",
    "# Kryterium scalenia to równość \"Id\" z ramki Users i \"OwnerUserId\" z ramki uzyskanej powyżej\n",
    "# Następnie sortujemy wartości malejąco względem zmiennej 'FavoriteTotal', \n",
    "# nadajemy nowe indeksy (od 0), \n",
    "# wybieramy pierwsze 10 rekordów oraz ustawiamy kolumny w odpowiedniej kolejności, zmieniając przy tym nazwę \n",
    "# kolumny \"Title\" na \"MostFavoriteQuestion\"\n",
    "res_1 = Users[['DisplayName', 'Age', 'Location', 'Id']].merge(tmp4,\n",
    "        left_on = 'Id', right_on = 'OwnerUserId').sort_values( \n",
    "    'FavoriteTotal', ascending = False).reset_index().iloc[:10,][\n",
    "    ['DisplayName', 'Age', 'Location', 'FavoriteTotal', 'Title', 'MostFavoriteQuestionLikes']].rename(\n",
    "    columns = {\"Title\":\"MostFavoriteQuestion\"})"
   ]
  },
  {
   "cell_type": "markdown",
   "metadata": {},
   "source": [
    "## 1.2. Sprawdzenie poprawności otrzymanych rezultatów."
   ]
  },
  {
   "cell_type": "markdown",
   "metadata": {},
   "source": [
    "### 1.2.1. Sprawdzenie klasy otrzymanego obiektu."
   ]
  },
  {
   "cell_type": "code",
   "execution_count": 12,
   "metadata": {},
   "outputs": [
    {
     "data": {
      "text/plain": [
       "pandas.core.frame.DataFrame"
      ]
     },
     "execution_count": 12,
     "metadata": {},
     "output_type": "execute_result"
    }
   ],
   "source": [
    "res_1.__class__ # Upewniamy się, że wynik to obiekt DataFrame a nie Slice."
   ]
  },
  {
   "cell_type": "markdown",
   "metadata": {},
   "source": [
    "### 1.2.2. Sprawdzenie poprawności danych wynikowych."
   ]
  },
  {
   "cell_type": "code",
   "execution_count": 13,
   "metadata": {},
   "outputs": [
    {
     "data": {
      "text/plain": [
       "True"
      ]
     },
     "execution_count": 13,
     "metadata": {},
     "output_type": "execute_result"
    }
   ],
   "source": [
    "res_1.equals(sql_1)  # Wszystko się zgadza, ale czy na pewno?"
   ]
  },
  {
   "cell_type": "code",
   "execution_count": 14,
   "metadata": {},
   "outputs": [
    {
     "data": {
      "text/html": [
       "<div>\n",
       "<style scoped>\n",
       "    .dataframe tbody tr th:only-of-type {\n",
       "        vertical-align: middle;\n",
       "    }\n",
       "\n",
       "    .dataframe tbody tr th {\n",
       "        vertical-align: top;\n",
       "    }\n",
       "\n",
       "    .dataframe thead th {\n",
       "        text-align: right;\n",
       "    }\n",
       "</style>\n",
       "<table border=\"1\" class=\"dataframe\">\n",
       "  <thead>\n",
       "    <tr style=\"text-align: right;\">\n",
       "      <th></th>\n",
       "      <th>DisplayName</th>\n",
       "      <th>Age</th>\n",
       "      <th>Location</th>\n",
       "      <th>FavoriteTotal</th>\n",
       "      <th>MostFavoriteQuestion</th>\n",
       "      <th>MostFavoriteQuestionLikes</th>\n",
       "    </tr>\n",
       "  </thead>\n",
       "  <tbody>\n",
       "    <tr>\n",
       "      <th>0</th>\n",
       "      <td>True</td>\n",
       "      <td>True</td>\n",
       "      <td>True</td>\n",
       "      <td>True</td>\n",
       "      <td>True</td>\n",
       "      <td>True</td>\n",
       "    </tr>\n",
       "    <tr>\n",
       "      <th>1</th>\n",
       "      <td>True</td>\n",
       "      <td>False</td>\n",
       "      <td>True</td>\n",
       "      <td>True</td>\n",
       "      <td>True</td>\n",
       "      <td>True</td>\n",
       "    </tr>\n",
       "    <tr>\n",
       "      <th>2</th>\n",
       "      <td>True</td>\n",
       "      <td>False</td>\n",
       "      <td>False</td>\n",
       "      <td>True</td>\n",
       "      <td>True</td>\n",
       "      <td>True</td>\n",
       "    </tr>\n",
       "    <tr>\n",
       "      <th>3</th>\n",
       "      <td>True</td>\n",
       "      <td>True</td>\n",
       "      <td>True</td>\n",
       "      <td>True</td>\n",
       "      <td>True</td>\n",
       "      <td>True</td>\n",
       "    </tr>\n",
       "    <tr>\n",
       "      <th>4</th>\n",
       "      <td>True</td>\n",
       "      <td>False</td>\n",
       "      <td>False</td>\n",
       "      <td>True</td>\n",
       "      <td>True</td>\n",
       "      <td>True</td>\n",
       "    </tr>\n",
       "    <tr>\n",
       "      <th>5</th>\n",
       "      <td>True</td>\n",
       "      <td>False</td>\n",
       "      <td>True</td>\n",
       "      <td>True</td>\n",
       "      <td>True</td>\n",
       "      <td>True</td>\n",
       "    </tr>\n",
       "    <tr>\n",
       "      <th>6</th>\n",
       "      <td>True</td>\n",
       "      <td>True</td>\n",
       "      <td>True</td>\n",
       "      <td>True</td>\n",
       "      <td>True</td>\n",
       "      <td>True</td>\n",
       "    </tr>\n",
       "    <tr>\n",
       "      <th>7</th>\n",
       "      <td>True</td>\n",
       "      <td>True</td>\n",
       "      <td>True</td>\n",
       "      <td>True</td>\n",
       "      <td>True</td>\n",
       "      <td>True</td>\n",
       "    </tr>\n",
       "    <tr>\n",
       "      <th>8</th>\n",
       "      <td>True</td>\n",
       "      <td>False</td>\n",
       "      <td>False</td>\n",
       "      <td>True</td>\n",
       "      <td>True</td>\n",
       "      <td>True</td>\n",
       "    </tr>\n",
       "    <tr>\n",
       "      <th>9</th>\n",
       "      <td>True</td>\n",
       "      <td>False</td>\n",
       "      <td>True</td>\n",
       "      <td>True</td>\n",
       "      <td>True</td>\n",
       "      <td>True</td>\n",
       "    </tr>\n",
       "  </tbody>\n",
       "</table>\n",
       "</div>"
      ],
      "text/plain": [
       "   DisplayName    Age  Location  FavoriteTotal  MostFavoriteQuestion  \\\n",
       "0         True   True      True           True                  True   \n",
       "1         True  False      True           True                  True   \n",
       "2         True  False     False           True                  True   \n",
       "3         True   True      True           True                  True   \n",
       "4         True  False     False           True                  True   \n",
       "5         True  False      True           True                  True   \n",
       "6         True   True      True           True                  True   \n",
       "7         True   True      True           True                  True   \n",
       "8         True  False     False           True                  True   \n",
       "9         True  False      True           True                  True   \n",
       "\n",
       "   MostFavoriteQuestionLikes  \n",
       "0                       True  \n",
       "1                       True  \n",
       "2                       True  \n",
       "3                       True  \n",
       "4                       True  \n",
       "5                       True  \n",
       "6                       True  \n",
       "7                       True  \n",
       "8                       True  \n",
       "9                       True  "
      ]
     },
     "execution_count": 14,
     "metadata": {},
     "output_type": "execute_result"
    }
   ],
   "source": [
    "np.equal(res_1, sql_1)"
   ]
  },
  {
   "cell_type": "code",
   "execution_count": 15,
   "metadata": {},
   "outputs": [],
   "source": [
    "# Zwróćmy uwagę na miejsca, w których występują różnicę między ramką res_1, sql_1. Otóż występują one wyłącznie\n",
    "# w miejscach, w których mamy do czynienia z brakami danych. Co ciekawe funkcja np.equals() zwraca 'False' nie tylko\n",
    "# wtedy, gdy porównuje obiekty None i NaN, ale również porównując NaN z NaN. Dlatego też nie zdecydowałam się \n",
    "# na zamianę obiektów NaN na None ani odwrotnie."
   ]
  },
  {
   "cell_type": "markdown",
   "metadata": {},
   "source": [
    "# Uwaga!"
   ]
  },
  {
   "cell_type": "code",
   "execution_count": 16,
   "metadata": {},
   "outputs": [],
   "source": [
    "# Zwróćmy uwagę, że wszędzie gdzie nie występują braki danych numpy.equal() zwraca True. \n",
    "# Zatem otrzymane w rezultacie dane są zgodne."
   ]
  },
  {
   "cell_type": "markdown",
   "metadata": {},
   "source": [
    "# Zadanie 2."
   ]
  },
  {
   "cell_type": "markdown",
   "metadata": {},
   "source": [
    "## 2.1. Jaki rezultat mamy osiągnąć?\n",
    "### W tym zadaniu chcemy uzyskać informacje o postach, które w poszczególnych latach miały najwięcej głosów typu '2'.\n",
    "Dane, które nas interesują to Id najczęściej lajkowanych postów, ich treść oraz ogólna liczba pozytywnych reakcji na wpisy ich autorów. "
   ]
  },
  {
   "cell_type": "code",
   "execution_count": 17,
   "metadata": {},
   "outputs": [],
   "source": [
    "sql_2 = pd.read_sql_query(\n",
    "    \"\"\"\n",
    "    SELECT\n",
    "            Posts.ID,\n",
    "            Posts.Title,\n",
    "            Posts2.PositiveAnswerCount\n",
    "        FROM Posts\n",
    "        JOIN (\n",
    "            SELECT\n",
    "                Posts.ParentID,\n",
    "                COUNT(*) AS PositiveAnswerCount\n",
    "            FROM Posts\n",
    "            WHERE Posts.PostTypeID=2 AND Posts.Score>0\n",
    "            GROUP BY Posts.ParentID\n",
    "                        ) \n",
    "            AS Posts2\n",
    "            ON Posts.ID=Posts2.ParentID\n",
    "    ORDER BY Posts2.PositiveAnswerCount DESC\n",
    "    LIMIT 10\n",
    "    \"\"\", conn)"
   ]
  },
  {
   "cell_type": "code",
   "execution_count": 18,
   "metadata": {},
   "outputs": [],
   "source": [
    "# Wybieramy posty, dla których wartości zmiennych spełniają następujące warunki: \n",
    "# 'PostTypeId' wynosi 2 i 'Score' jest dodatnia,\n",
    "# otrzymaną w rezultacie ramkę grupujemy po zmiennej 'ParentId', następnie za pomocą funkcji size()\n",
    "# otrzymujemy liczność poszczególnych grup, czyli liczbę pozytywnych rekacji na wszystkie wpisy autorów  \n",
    "# rozważanych postów\n",
    "\n",
    "Posts2 =  Posts.loc[(Posts.PostTypeId == 2) & (Posts.Score > 0), ['ParentId']].groupby('ParentId').size(\n",
    "            ).reset_index(name='PositiveAnswerCount')\n",
    "\n",
    "# W ostatnich krokach resetujemy indeksy i nazywamy kolumnę przechowującą rozmiary \n",
    "# grup jako 'PositiveAnswerCount'. Otrzymaną w ten sposób ramkę nazywamy jako 'Posts2'"
   ]
  },
  {
   "cell_type": "code",
   "execution_count": 19,
   "metadata": {},
   "outputs": [],
   "source": [
    "# Ramkę wynikową łączymy z kolumnami 'Id' i 'Title' z ramki Posts wg następującego kryterium:\n",
    "# Posts.ID=Posts2.ParentID. Aby uniknąć duplikatów używamy funkcji drop_duplicates, a w celu pominięcia\n",
    "# kolumny ParentId, której nie chcemy mieć w finalnej ramce stosujemy drop na niechcianej kolumnie\n",
    "\n",
    "res_2 = Posts[['Id', 'Title']].merge(Posts2, left_on = 'Id', right_on = 'ParentId').drop_duplicates(\n",
    "        ).drop(columns = 'ParentId')\n",
    "\n",
    "# Następnie, jak niżej, dane sortujemy malejąco względem zmiennej PositiveAnswerCount i wybieramy\n",
    "# pierwsze 10 wierszy\n",
    "\n",
    "# Dodatkowa ramka - na potrzeby testów\n",
    "df3 = res_2.sort_values(['PositiveAnswerCount'], ascending = False).reset_index().drop(columns = 'index'\n",
    "                                                                                      ).iloc[:10,]\n",
    "\n",
    "res_2 = res_2.sort_values(['PositiveAnswerCount'], ascending = False).reset_index().drop(columns = 'index'\n",
    "                                                                                      ).iloc[:10,]"
   ]
  },
  {
   "cell_type": "markdown",
   "metadata": {},
   "source": [
    "## 2.2. Sprawdzenie zgodności otrzymanych danych."
   ]
  },
  {
   "cell_type": "markdown",
   "metadata": {},
   "source": [
    "### 2.2.1. Sprawdzenie klasy otrzymanego obiektu."
   ]
  },
  {
   "cell_type": "code",
   "execution_count": 20,
   "metadata": {},
   "outputs": [
    {
     "data": {
      "text/plain": [
       "pandas.core.frame.DataFrame"
      ]
     },
     "execution_count": 20,
     "metadata": {},
     "output_type": "execute_result"
    }
   ],
   "source": [
    "res_2.__class__"
   ]
  },
  {
   "cell_type": "markdown",
   "metadata": {},
   "source": [
    "### 2.2.2. Sprawdzenie poprawności danych wynikowych."
   ]
  },
  {
   "cell_type": "code",
   "execution_count": 21,
   "metadata": {},
   "outputs": [
    {
     "data": {
      "text/html": [
       "<div>\n",
       "<style scoped>\n",
       "    .dataframe tbody tr th:only-of-type {\n",
       "        vertical-align: middle;\n",
       "    }\n",
       "\n",
       "    .dataframe tbody tr th {\n",
       "        vertical-align: top;\n",
       "    }\n",
       "\n",
       "    .dataframe thead th {\n",
       "        text-align: right;\n",
       "    }\n",
       "</style>\n",
       "<table border=\"1\" class=\"dataframe\">\n",
       "  <thead>\n",
       "    <tr style=\"text-align: right;\">\n",
       "      <th></th>\n",
       "      <th>Id</th>\n",
       "      <th>Title</th>\n",
       "      <th>PositiveAnswerCount</th>\n",
       "    </tr>\n",
       "  </thead>\n",
       "  <tbody>\n",
       "    <tr>\n",
       "      <th>0</th>\n",
       "      <td>True</td>\n",
       "      <td>True</td>\n",
       "      <td>True</td>\n",
       "    </tr>\n",
       "    <tr>\n",
       "      <th>1</th>\n",
       "      <td>True</td>\n",
       "      <td>True</td>\n",
       "      <td>True</td>\n",
       "    </tr>\n",
       "    <tr>\n",
       "      <th>2</th>\n",
       "      <td>True</td>\n",
       "      <td>True</td>\n",
       "      <td>True</td>\n",
       "    </tr>\n",
       "    <tr>\n",
       "      <th>3</th>\n",
       "      <td>True</td>\n",
       "      <td>True</td>\n",
       "      <td>True</td>\n",
       "    </tr>\n",
       "    <tr>\n",
       "      <th>4</th>\n",
       "      <td>False</td>\n",
       "      <td>False</td>\n",
       "      <td>True</td>\n",
       "    </tr>\n",
       "    <tr>\n",
       "      <th>5</th>\n",
       "      <td>False</td>\n",
       "      <td>False</td>\n",
       "      <td>True</td>\n",
       "    </tr>\n",
       "    <tr>\n",
       "      <th>6</th>\n",
       "      <td>True</td>\n",
       "      <td>True</td>\n",
       "      <td>True</td>\n",
       "    </tr>\n",
       "    <tr>\n",
       "      <th>7</th>\n",
       "      <td>False</td>\n",
       "      <td>False</td>\n",
       "      <td>True</td>\n",
       "    </tr>\n",
       "    <tr>\n",
       "      <th>8</th>\n",
       "      <td>False</td>\n",
       "      <td>False</td>\n",
       "      <td>True</td>\n",
       "    </tr>\n",
       "    <tr>\n",
       "      <th>9</th>\n",
       "      <td>False</td>\n",
       "      <td>False</td>\n",
       "      <td>True</td>\n",
       "    </tr>\n",
       "  </tbody>\n",
       "</table>\n",
       "</div>"
      ],
      "text/plain": [
       "      Id  Title  PositiveAnswerCount\n",
       "0   True   True                 True\n",
       "1   True   True                 True\n",
       "2   True   True                 True\n",
       "3   True   True                 True\n",
       "4  False  False                 True\n",
       "5  False  False                 True\n",
       "6   True   True                 True\n",
       "7  False  False                 True\n",
       "8  False  False                 True\n",
       "9  False  False                 True"
      ]
     },
     "execution_count": 21,
     "metadata": {},
     "output_type": "execute_result"
    }
   ],
   "source": [
    "np.equal(sql_2, res_2)"
   ]
  },
  {
   "cell_type": "markdown",
   "metadata": {},
   "source": [
    "# UWAGA!"
   ]
  },
  {
   "cell_type": "code",
   "execution_count": 23,
   "metadata": {},
   "outputs": [],
   "source": [
    "# Zwrócone wartości False spowodowane są różnicami w permutacji wierszy porównywanych ramek. \n",
    "# Z tego również powodu w każdej ramce znajduje się jeden wiersz, który nie występuje w drugiej. Dlaczego? \n",
    "# Otóż ostatnim krokiem w procesie przetwarzania danych był wybór 10 pierwszych wierszy. Okazuje się, że w \n",
    "# w przypadku wierszy 7-11 mamy do czynienia z remisem. Ze względu na to, że wiersze o takiej samej wartości\n",
    "# 'Score' zostają zwrócone w ramkach w innej kolejności, to wiersz który w ramce sql_2 znalazł się na 10 miejscu\n",
    "# w ramce res_2 znalazłby się na jedenastym. A ponieważ wybieraliśmy pierwsze 10 rekorów, to ostatecznie nie znalazł\n",
    "# się w niej wcale. Nie mniej jednak zwrócone dane są poprawne i mam nadzieję, że te subtelne różnice nie \n",
    "# wpłyną negatywnie na ocenę. \n",
    "# Aby udowodnić, że ramki posiadają takie same dane zmodyfikujmy nieco polecenie i spójrzmy jak wyglądałyby \n",
    "# gdybyśmy wzięli pierwsze 11 wierszy dla każdej. "
   ]
  },
  {
   "cell_type": "code",
   "execution_count": 22,
   "metadata": {},
   "outputs": [],
   "source": [
    "df_sql = pd.read_sql_query(\n",
    "    \"\"\"\n",
    "    SELECT\n",
    "            Posts.ID,\n",
    "            Posts.Title,\n",
    "            Posts2.PositiveAnswerCount\n",
    "        FROM Posts\n",
    "        JOIN (\n",
    "            SELECT\n",
    "                Posts.ParentID,\n",
    "                COUNT(*) AS PositiveAnswerCount\n",
    "            FROM Posts\n",
    "            WHERE Posts.PostTypeID=2 AND Posts.Score>0\n",
    "            GROUP BY Posts.ParentID\n",
    "                        ) \n",
    "            AS Posts2\n",
    "            ON Posts.ID=Posts2.ParentID\n",
    "    ORDER BY Posts2.PositiveAnswerCount DESC\n",
    "    LIMIT 11\n",
    "    \"\"\", conn)"
   ]
  },
  {
   "cell_type": "code",
   "execution_count": 23,
   "metadata": {},
   "outputs": [
    {
     "data": {
      "text/html": [
       "<div>\n",
       "<style scoped>\n",
       "    .dataframe tbody tr th:only-of-type {\n",
       "        vertical-align: middle;\n",
       "    }\n",
       "\n",
       "    .dataframe tbody tr th {\n",
       "        vertical-align: top;\n",
       "    }\n",
       "\n",
       "    .dataframe thead th {\n",
       "        text-align: right;\n",
       "    }\n",
       "</style>\n",
       "<table border=\"1\" class=\"dataframe\">\n",
       "  <thead>\n",
       "    <tr style=\"text-align: right;\">\n",
       "      <th></th>\n",
       "      <th>Id</th>\n",
       "      <th>Title</th>\n",
       "      <th>PositiveAnswerCount</th>\n",
       "    </tr>\n",
       "  </thead>\n",
       "  <tbody>\n",
       "    <tr>\n",
       "      <th>0</th>\n",
       "      <td>250</td>\n",
       "      <td>Which European cities have bike rental station...</td>\n",
       "      <td>24</td>\n",
       "    </tr>\n",
       "    <tr>\n",
       "      <th>1</th>\n",
       "      <td>10</td>\n",
       "      <td>When traveling to a country with a different c...</td>\n",
       "      <td>20</td>\n",
       "    </tr>\n",
       "    <tr>\n",
       "      <th>2</th>\n",
       "      <td>13562</td>\n",
       "      <td>How do you choose a restaurant when travelling?</td>\n",
       "      <td>20</td>\n",
       "    </tr>\n",
       "    <tr>\n",
       "      <th>3</th>\n",
       "      <td>48775</td>\n",
       "      <td>How can I deal with people asking to switch se...</td>\n",
       "      <td>20</td>\n",
       "    </tr>\n",
       "    <tr>\n",
       "      <th>4</th>\n",
       "      <td>3220</td>\n",
       "      <td>Why would you wrap your luggage in plastic?</td>\n",
       "      <td>19</td>\n",
       "    </tr>\n",
       "    <tr>\n",
       "      <th>5</th>\n",
       "      <td>43660</td>\n",
       "      <td>Traveling in Europe Solo - 18 years old. Feasi...</td>\n",
       "      <td>19</td>\n",
       "    </tr>\n",
       "    <tr>\n",
       "      <th>6</th>\n",
       "      <td>30656</td>\n",
       "      <td>Long-life SIM cards in Europe</td>\n",
       "      <td>18</td>\n",
       "    </tr>\n",
       "    <tr>\n",
       "      <th>7</th>\n",
       "      <td>7663</td>\n",
       "      <td>Am I expected to tip wait staff in Europe?</td>\n",
       "      <td>17</td>\n",
       "    </tr>\n",
       "    <tr>\n",
       "      <th>8</th>\n",
       "      <td>59128</td>\n",
       "      <td>Is there a way to prevent \"looking like a tour...</td>\n",
       "      <td>17</td>\n",
       "    </tr>\n",
       "    <tr>\n",
       "      <th>9</th>\n",
       "      <td>60446</td>\n",
       "      <td>Is it rude to ask if the food contains pork or...</td>\n",
       "      <td>17</td>\n",
       "    </tr>\n",
       "    <tr>\n",
       "      <th>10</th>\n",
       "      <td>80329</td>\n",
       "      <td>How to cope with too slow Wi-Fi at hotel?</td>\n",
       "      <td>17</td>\n",
       "    </tr>\n",
       "  </tbody>\n",
       "</table>\n",
       "</div>"
      ],
      "text/plain": [
       "       Id                                              Title  \\\n",
       "0     250  Which European cities have bike rental station...   \n",
       "1      10  When traveling to a country with a different c...   \n",
       "2   13562    How do you choose a restaurant when travelling?   \n",
       "3   48775  How can I deal with people asking to switch se...   \n",
       "4    3220        Why would you wrap your luggage in plastic?   \n",
       "5   43660  Traveling in Europe Solo - 18 years old. Feasi...   \n",
       "6   30656                      Long-life SIM cards in Europe   \n",
       "7    7663         Am I expected to tip wait staff in Europe?   \n",
       "8   59128  Is there a way to prevent \"looking like a tour...   \n",
       "9   60446  Is it rude to ask if the food contains pork or...   \n",
       "10  80329          How to cope with too slow Wi-Fi at hotel?   \n",
       "\n",
       "    PositiveAnswerCount  \n",
       "0                    24  \n",
       "1                    20  \n",
       "2                    20  \n",
       "3                    20  \n",
       "4                    19  \n",
       "5                    19  \n",
       "6                    18  \n",
       "7                    17  \n",
       "8                    17  \n",
       "9                    17  \n",
       "10                   17  "
      ]
     },
     "execution_count": 23,
     "metadata": {},
     "output_type": "execute_result"
    }
   ],
   "source": [
    "df_sql"
   ]
  },
  {
   "cell_type": "code",
   "execution_count": 24,
   "metadata": {},
   "outputs": [
    {
     "data": {
      "text/html": [
       "<div>\n",
       "<style scoped>\n",
       "    .dataframe tbody tr th:only-of-type {\n",
       "        vertical-align: middle;\n",
       "    }\n",
       "\n",
       "    .dataframe tbody tr th {\n",
       "        vertical-align: top;\n",
       "    }\n",
       "\n",
       "    .dataframe thead th {\n",
       "        text-align: right;\n",
       "    }\n",
       "</style>\n",
       "<table border=\"1\" class=\"dataframe\">\n",
       "  <thead>\n",
       "    <tr style=\"text-align: right;\">\n",
       "      <th></th>\n",
       "      <th>Id</th>\n",
       "      <th>Title</th>\n",
       "      <th>PositiveAnswerCount</th>\n",
       "    </tr>\n",
       "  </thead>\n",
       "  <tbody>\n",
       "    <tr>\n",
       "      <th>0</th>\n",
       "      <td>250</td>\n",
       "      <td>Which European cities have bike rental station...</td>\n",
       "      <td>24</td>\n",
       "    </tr>\n",
       "    <tr>\n",
       "      <th>1</th>\n",
       "      <td>10</td>\n",
       "      <td>When traveling to a country with a different c...</td>\n",
       "      <td>20</td>\n",
       "    </tr>\n",
       "    <tr>\n",
       "      <th>2</th>\n",
       "      <td>13562</td>\n",
       "      <td>How do you choose a restaurant when travelling?</td>\n",
       "      <td>20</td>\n",
       "    </tr>\n",
       "    <tr>\n",
       "      <th>3</th>\n",
       "      <td>48775</td>\n",
       "      <td>How can I deal with people asking to switch se...</td>\n",
       "      <td>20</td>\n",
       "    </tr>\n",
       "    <tr>\n",
       "      <th>4</th>\n",
       "      <td>43660</td>\n",
       "      <td>Traveling in Europe Solo - 18 years old. Feasi...</td>\n",
       "      <td>19</td>\n",
       "    </tr>\n",
       "    <tr>\n",
       "      <th>5</th>\n",
       "      <td>3220</td>\n",
       "      <td>Why would you wrap your luggage in plastic?</td>\n",
       "      <td>19</td>\n",
       "    </tr>\n",
       "    <tr>\n",
       "      <th>6</th>\n",
       "      <td>30656</td>\n",
       "      <td>Long-life SIM cards in Europe</td>\n",
       "      <td>18</td>\n",
       "    </tr>\n",
       "    <tr>\n",
       "      <th>7</th>\n",
       "      <td>80329</td>\n",
       "      <td>How to cope with too slow Wi-Fi at hotel?</td>\n",
       "      <td>17</td>\n",
       "    </tr>\n",
       "    <tr>\n",
       "      <th>8</th>\n",
       "      <td>7663</td>\n",
       "      <td>Am I expected to tip wait staff in Europe?</td>\n",
       "      <td>17</td>\n",
       "    </tr>\n",
       "    <tr>\n",
       "      <th>9</th>\n",
       "      <td>59128</td>\n",
       "      <td>Is there a way to prevent \"looking like a tour...</td>\n",
       "      <td>17</td>\n",
       "    </tr>\n",
       "  </tbody>\n",
       "</table>\n",
       "</div>"
      ],
      "text/plain": [
       "      Id                                              Title  \\\n",
       "0    250  Which European cities have bike rental station...   \n",
       "1     10  When traveling to a country with a different c...   \n",
       "2  13562    How do you choose a restaurant when travelling?   \n",
       "3  48775  How can I deal with people asking to switch se...   \n",
       "4  43660  Traveling in Europe Solo - 18 years old. Feasi...   \n",
       "5   3220        Why would you wrap your luggage in plastic?   \n",
       "6  30656                      Long-life SIM cards in Europe   \n",
       "7  80329          How to cope with too slow Wi-Fi at hotel?   \n",
       "8   7663         Am I expected to tip wait staff in Europe?   \n",
       "9  59128  Is there a way to prevent \"looking like a tour...   \n",
       "\n",
       "   PositiveAnswerCount  \n",
       "0                   24  \n",
       "1                   20  \n",
       "2                   20  \n",
       "3                   20  \n",
       "4                   19  \n",
       "5                   19  \n",
       "6                   18  \n",
       "7                   17  \n",
       "8                   17  \n",
       "9                   17  "
      ]
     },
     "execution_count": 24,
     "metadata": {},
     "output_type": "execute_result"
    }
   ],
   "source": [
    "df3"
   ]
  },
  {
   "cell_type": "code",
   "execution_count": 86,
   "metadata": {},
   "outputs": [],
   "source": [
    "# Zwróćmy uwagę, że są to dokładnie te same dane, tylko że występują w innej kolejności. \n",
    "# Dla pewności, że nic mi nie umnkęło sprawdziłam też typy zwracanych danych. "
   ]
  },
  {
   "cell_type": "code",
   "execution_count": 25,
   "metadata": {},
   "outputs": [
    {
     "data": {
      "text/plain": [
       "Id                      int64\n",
       "Title                  object\n",
       "PositiveAnswerCount     int64\n",
       "dtype: object"
      ]
     },
     "execution_count": 25,
     "metadata": {},
     "output_type": "execute_result"
    }
   ],
   "source": [
    "df3.dtypes"
   ]
  },
  {
   "cell_type": "code",
   "execution_count": 26,
   "metadata": {},
   "outputs": [
    {
     "data": {
      "text/plain": [
       "Id                      int64\n",
       "Title                  object\n",
       "PositiveAnswerCount     int64\n",
       "dtype: object"
      ]
     },
     "execution_count": 26,
     "metadata": {},
     "output_type": "execute_result"
    }
   ],
   "source": [
    "df_sql.dtypes"
   ]
  },
  {
   "cell_type": "code",
   "execution_count": 30,
   "metadata": {},
   "outputs": [],
   "source": [
    "# One również są takie same. "
   ]
  },
  {
   "cell_type": "markdown",
   "metadata": {},
   "source": [
    "# Zadanie 3."
   ]
  },
  {
   "cell_type": "markdown",
   "metadata": {},
   "source": [
    "## 3.1. Jaki rezultat mamy osiągnąć?\n",
    "### W tym zadaniu chcemy uzyskać informacje o postach, które w kolejnyvh latach spotykały się z największą liczbą pozytywnnych reakcji. \n",
    "Dane jakie chcemy uzyskać to tytułu postów, daty ich utworzenia i maksymalne liczby pozytywnych reakcji uzyskanych w skali rocznej."
   ]
  },
  {
   "cell_type": "code",
   "execution_count": 27,
   "metadata": {},
   "outputs": [],
   "source": [
    "sql_3 = pd.read_sql_query(\n",
    "    \"\"\"\n",
    "    SELECT\n",
    "        Posts.Title,\n",
    "        UpVotesPerYear.Year,\n",
    "        MAX(UpVotesPerYear.Count) AS Count\n",
    "    FROM (\n",
    "        SELECT\n",
    "            PostId,\n",
    "            COUNT(*) AS Count,\n",
    "            STRFTIME('%Y', Votes.CreationDate) AS Year\n",
    "        FROM Votes\n",
    "        WHERE VoteTypeId=2\n",
    "        GROUP BY PostId, Year\n",
    "        ) AS UpVotesPerYear\n",
    "    JOIN Posts ON Posts.Id=UpVotesPerYear.PostId\n",
    "    WHERE Posts.PostTypeId=1\n",
    "    GROUP BY Year\n",
    "    \"\"\", conn)"
   ]
  },
  {
   "cell_type": "code",
   "execution_count": 28,
   "metadata": {
    "scrolled": true
   },
   "outputs": [],
   "source": [
    "# Z ramki Votes wybieramy wiersze, dla których zmienna 'VoteTypeId' przyjmuje wartość 2 oraz kolumny: 'PostId' i\n",
    "# 'CreationDate'.\n",
    "UpVotesPerYear = Votes[Votes.VoteTypeId == 2][['PostId', 'CreationDate']]\n",
    "\n",
    "# Następnie z daty ekstrahujemy rok.\n",
    "# W tym celu zamieniamy kolumnę CreationDate na listę i tworzymy listę pomocniczą Date,\n",
    "# w której będziemy zamieniać pełne daty na same lata.\n",
    "Date = UpVotesPerYear.CreationDate.values.tolist()\n",
    "n = len(Date)\n",
    "\n",
    "for i in range(n):\n",
    "    Year = Date[i].split(\"-\")[0]\n",
    "    Date[i] = Year\n",
    "    \n",
    "# Listę Date z zamienionymi wartościami umieszczamy w ramce\n",
    "UpVotesPerYear['Year'] = Date\n",
    "\n",
    "# Opuszczamy niepotrzebną już kolumnę CreationDate, grupujemy dane po zmiennych 'PostId',\n",
    "# 'Year' i za pomocą funkcji size() określamy liczności otrzymanych grup.\n",
    "UpVotesPerYear = UpVotesPerYear.drop(columns = 'CreationDate').groupby(\n",
    "    ['PostId', 'Year']).size().reset_index(name='Count')"
   ]
  },
  {
   "cell_type": "code",
   "execution_count": 29,
   "metadata": {},
   "outputs": [],
   "source": [
    "# Z ramki Posts wybieramy wiersze 'PostTypeId'==2 i kolumny 'Id', 'Title'. Kolumna 'Id' jest nam potrzebna tylko\n",
    "# do konkatenacji. Otrzymane dane łączymy z ramką UpVotesPerYear wg kryterium Posts.Id=UpVotesPerYear.PostId. \n",
    "# Następnie grupujemy dane po zmiennej Year.\n",
    "df = Posts[Posts.PostTypeId == 1][['Id', 'Title']].merge(UpVotesPerYear, left_on = 'Id', right_on = 'PostId').drop(\n",
    "    columns = ['Id', 'PostId'])\n",
    "tmp = df.groupby('Year')\n",
    "# Na otrzymanych grupach agregujemy funkcję max()\n",
    "res_3 = pd.DataFrame([{'Count': ramka.Count.max(skipna = True),\n",
    "                      'Year': grupa} \n",
    "                       for (grupa, ramka) in tmp])\n",
    "# I łączymy ramkę df z tą samą ramką po agregacji max\n",
    "# Opuszczamy kolumnę 'Year_y', zmieniamy nazwę kolumny 'Year_x' na 'Year', resetujemy\n",
    "# indeksy i zmieniamy kolejność kolumn.\n",
    "res_3 = res_3.merge(df, on = 'Count')\n",
    "res_3 = res_3[res_3.Year_x == res_3.Year_y].drop(columns = 'Year_y').rename(\n",
    "    columns = {\"Year_x\":\"Year\"}).reset_index().drop(columns = 'index')[['Title', 'Year', 'Count']]"
   ]
  },
  {
   "cell_type": "markdown",
   "metadata": {},
   "source": [
    "## 3.2. Sprawdzenie zgodności otrzymanych danych."
   ]
  },
  {
   "cell_type": "markdown",
   "metadata": {},
   "source": [
    "### 3.2.1. Sprawdzenie klasy otrzymanego obiektu."
   ]
  },
  {
   "cell_type": "code",
   "execution_count": 30,
   "metadata": {},
   "outputs": [
    {
     "data": {
      "text/plain": [
       "pandas.core.frame.DataFrame"
      ]
     },
     "execution_count": 30,
     "metadata": {},
     "output_type": "execute_result"
    }
   ],
   "source": [
    "res_3.__class__"
   ]
  },
  {
   "cell_type": "markdown",
   "metadata": {},
   "source": [
    "### 3.2.2. Sprawdzenie poprawności danych wynikowych."
   ]
  },
  {
   "cell_type": "code",
   "execution_count": 31,
   "metadata": {},
   "outputs": [
    {
     "data": {
      "text/plain": [
       "True"
      ]
     },
     "execution_count": 31,
     "metadata": {},
     "output_type": "execute_result"
    }
   ],
   "source": [
    "res_3.equals(sql_3)  # Wszystko się zgadza, ale czy na pewno?"
   ]
  },
  {
   "cell_type": "code",
   "execution_count": 32,
   "metadata": {},
   "outputs": [
    {
     "data": {
      "text/html": [
       "<div>\n",
       "<style scoped>\n",
       "    .dataframe tbody tr th:only-of-type {\n",
       "        vertical-align: middle;\n",
       "    }\n",
       "\n",
       "    .dataframe tbody tr th {\n",
       "        vertical-align: top;\n",
       "    }\n",
       "\n",
       "    .dataframe thead th {\n",
       "        text-align: right;\n",
       "    }\n",
       "</style>\n",
       "<table border=\"1\" class=\"dataframe\">\n",
       "  <thead>\n",
       "    <tr style=\"text-align: right;\">\n",
       "      <th></th>\n",
       "      <th>Title</th>\n",
       "      <th>Year</th>\n",
       "      <th>Count</th>\n",
       "    </tr>\n",
       "  </thead>\n",
       "  <tbody>\n",
       "    <tr>\n",
       "      <th>0</th>\n",
       "      <td>True</td>\n",
       "      <td>True</td>\n",
       "      <td>True</td>\n",
       "    </tr>\n",
       "    <tr>\n",
       "      <th>1</th>\n",
       "      <td>True</td>\n",
       "      <td>True</td>\n",
       "      <td>True</td>\n",
       "    </tr>\n",
       "    <tr>\n",
       "      <th>2</th>\n",
       "      <td>True</td>\n",
       "      <td>True</td>\n",
       "      <td>True</td>\n",
       "    </tr>\n",
       "    <tr>\n",
       "      <th>3</th>\n",
       "      <td>True</td>\n",
       "      <td>True</td>\n",
       "      <td>True</td>\n",
       "    </tr>\n",
       "    <tr>\n",
       "      <th>4</th>\n",
       "      <td>True</td>\n",
       "      <td>True</td>\n",
       "      <td>True</td>\n",
       "    </tr>\n",
       "    <tr>\n",
       "      <th>5</th>\n",
       "      <td>True</td>\n",
       "      <td>True</td>\n",
       "      <td>True</td>\n",
       "    </tr>\n",
       "    <tr>\n",
       "      <th>6</th>\n",
       "      <td>True</td>\n",
       "      <td>True</td>\n",
       "      <td>True</td>\n",
       "    </tr>\n",
       "  </tbody>\n",
       "</table>\n",
       "</div>"
      ],
      "text/plain": [
       "   Title  Year  Count\n",
       "0   True  True   True\n",
       "1   True  True   True\n",
       "2   True  True   True\n",
       "3   True  True   True\n",
       "4   True  True   True\n",
       "5   True  True   True\n",
       "6   True  True   True"
      ]
     },
     "execution_count": 32,
     "metadata": {},
     "output_type": "execute_result"
    }
   ],
   "source": [
    "np.equal(sql_3, res_3) # Tak :)"
   ]
  },
  {
   "cell_type": "markdown",
   "metadata": {},
   "source": [
    "# Zadanie 4."
   ]
  },
  {
   "cell_type": "markdown",
   "metadata": {},
   "source": [
    "## 4.1. Jaki rezultat mamy osiągnąć?\n",
    "### Wybieramy te pytania, do których najlepiej ocenione odpowiedzi miały ponad 50 głosów więcej niż te pytania. \n",
    "Dane, na których nam zależy to Id i tytuł pytania, maksymalna ocena odpowiedzi, ocena pytania i różnica tych ocen."
   ]
  },
  {
   "cell_type": "code",
   "execution_count": 33,
   "metadata": {},
   "outputs": [],
   "source": [
    "sql_4 = pd.read_sql_query(\n",
    "    \"\"\"\n",
    "    SELECT\n",
    "        Questions.Id,\n",
    "        Questions.Title,\n",
    "        BestAnswers.MaxScore,\n",
    "        Posts.Score AS AcceptedScore,\n",
    "        BestAnswers.MaxScore-Posts.Score AS Difference\n",
    "    FROM (\n",
    "        SELECT Id, ParentId, MAX(Score) AS MaxScore\n",
    "        FROM Posts\n",
    "        WHERE PostTypeId==2\n",
    "        GROUP BY ParentId\n",
    "        ) AS BestAnswers\n",
    "    JOIN (\n",
    "        SELECT * FROM Posts\n",
    "        WHERE PostTypeId==1\n",
    "        ) AS Questions\n",
    "        ON Questions.Id=BestAnswers.ParentId\n",
    "    JOIN Posts ON Questions.AcceptedAnswerId=Posts.Id\n",
    "    WHERE Difference>50\n",
    "    ORDER BY Difference DESC\n",
    "    \"\"\", conn)"
   ]
  },
  {
   "cell_type": "code",
   "execution_count": 34,
   "metadata": {},
   "outputs": [],
   "source": [
    "# Z ramki Posts wybieramy Posty typu '2' i grupujemy je względem zmiennej 'ParentId'.\n",
    "tmp = Posts[Posts.PostTypeId == 2].groupby('ParentId')\n",
    "# Na tak otrzymanych danych agregujemy funkcję max() nazywając odpowiednio kolumny.\n",
    "tmp2 = pd.DataFrame([{'MaxScore': ramka.Score.max(skipna = True),\n",
    "                      'ParentId': grupa} \n",
    "                       for (grupa, ramka) in tmp])\n",
    "# Otrzymaną ramkę łączymy z wybranymi kolumnami ramki Posts. Konkatenacji dokonujemy po dwóch zmiennych,\n",
    "# aby mieć pewność, że ramki zostaną właściwie połączone. Ramkę wynikową przypisujemy zmiennej 'BestAnswers'.\n",
    "BestAnswers = tmp2.merge(Posts[['Id', 'ParentId', 'Score']], left_on = ['MaxScore', 'ParentId'],\n",
    "                         right_on = ['Score', 'ParentId'])[['Id', 'ParentId', 'MaxScore']]"
   ]
  },
  {
   "cell_type": "code",
   "execution_count": 35,
   "metadata": {},
   "outputs": [],
   "source": [
    "# Zmiennej 'Questions' przypisujemy posty typu 1.\n",
    "Questions = Posts[Posts.PostTypeId == 1]\n",
    "# Łączymy wybrane kolumny z ramki Questions z ramką BestAnswers wg równości Id i ParentId\n",
    "tmp3 = Questions[['Id', 'Title', 'AcceptedAnswerId']].merge(BestAnswers, left_on = 'Id', right_on = 'ParentId')\n",
    "# następnie dokonujemy konkatenacji ramki otrzymanej wyżej z wybranymi kolumnami ramki Posts\n",
    "res_4 = tmp3.merge(Posts[['Score', 'Id']], left_on = 'AcceptedAnswerId', right_on = 'Id')\n",
    "# dla każdego wiersza obliczamy różnicę między maksymalną wartością Score a rzeczywistą wartością.\n",
    "Difference = res_4.MaxScore-res_4.Score\n",
    "# Kolumnę wynikową 'doklejamy' do przetwarzanej ramki\n",
    "res_4 = pd.concat([res_4.reset_index(drop=True), Difference.rename('Difference')], axis=1)"
   ]
  },
  {
   "cell_type": "code",
   "execution_count": 36,
   "metadata": {},
   "outputs": [],
   "source": [
    "# Wybieramy te wiersze, dla których różnica jest większa od 50, sortujemy dane malejąco względem tej różnicy \n",
    "# i wybieramy potrzebne kolumny. \n",
    "res_4 = res_4[res_4.Difference > 50].sort_values('Difference', ascending = False)[[\"Id_x\", \"Title\", \"MaxScore\",\n",
    "                                                                                   \"Score\", \"Difference\"]]\n",
    "# Uwaga! Możemy wybrać dowolne Id, bo Id_x == Id_y"
   ]
  },
  {
   "cell_type": "code",
   "execution_count": 37,
   "metadata": {},
   "outputs": [],
   "source": [
    "# Zmieniamy nazwy kolumn i resetujemy indeks i wybieramy potrzebne kolumny. \n",
    "res_4 = res_4.rename({'Id_x': 'Id', 'Score': 'AcceptedScore'}, axis = 1).reset_index()[[\"Id\", \"Title\", \"MaxScore\",\n",
    "                                                                                   \"AcceptedScore\", \"Difference\"]]"
   ]
  },
  {
   "cell_type": "markdown",
   "metadata": {},
   "source": [
    "## 4.2. Sprawdzenie zgodności otrzymanych danych."
   ]
  },
  {
   "cell_type": "markdown",
   "metadata": {},
   "source": [
    "### 4.2.1. Sprawdzenie klasy otrzymanego obiektu."
   ]
  },
  {
   "cell_type": "code",
   "execution_count": 38,
   "metadata": {},
   "outputs": [
    {
     "data": {
      "text/plain": [
       "pandas.core.frame.DataFrame"
      ]
     },
     "execution_count": 38,
     "metadata": {},
     "output_type": "execute_result"
    }
   ],
   "source": [
    "res_4.__class__"
   ]
  },
  {
   "cell_type": "markdown",
   "metadata": {},
   "source": [
    "### 4.2.2. Sprawdzenie poprawności danych wynikowych."
   ]
  },
  {
   "cell_type": "code",
   "execution_count": 39,
   "metadata": {},
   "outputs": [
    {
     "data": {
      "text/plain": [
       "True"
      ]
     },
     "execution_count": 39,
     "metadata": {},
     "output_type": "execute_result"
    }
   ],
   "source": [
    "res_4.equals(sql_4)  # Wszystko się zgadza, ale czy na pewno?"
   ]
  },
  {
   "cell_type": "code",
   "execution_count": 40,
   "metadata": {},
   "outputs": [
    {
     "data": {
      "text/html": [
       "<div>\n",
       "<style scoped>\n",
       "    .dataframe tbody tr th:only-of-type {\n",
       "        vertical-align: middle;\n",
       "    }\n",
       "\n",
       "    .dataframe tbody tr th {\n",
       "        vertical-align: top;\n",
       "    }\n",
       "\n",
       "    .dataframe thead th {\n",
       "        text-align: right;\n",
       "    }\n",
       "</style>\n",
       "<table border=\"1\" class=\"dataframe\">\n",
       "  <thead>\n",
       "    <tr style=\"text-align: right;\">\n",
       "      <th></th>\n",
       "      <th>Id</th>\n",
       "      <th>Title</th>\n",
       "      <th>MaxScore</th>\n",
       "      <th>AcceptedScore</th>\n",
       "      <th>Difference</th>\n",
       "    </tr>\n",
       "  </thead>\n",
       "  <tbody>\n",
       "    <tr>\n",
       "      <th>0</th>\n",
       "      <td>True</td>\n",
       "      <td>True</td>\n",
       "      <td>True</td>\n",
       "      <td>True</td>\n",
       "      <td>True</td>\n",
       "    </tr>\n",
       "    <tr>\n",
       "      <th>1</th>\n",
       "      <td>True</td>\n",
       "      <td>True</td>\n",
       "      <td>True</td>\n",
       "      <td>True</td>\n",
       "      <td>True</td>\n",
       "    </tr>\n",
       "    <tr>\n",
       "      <th>2</th>\n",
       "      <td>True</td>\n",
       "      <td>True</td>\n",
       "      <td>True</td>\n",
       "      <td>True</td>\n",
       "      <td>True</td>\n",
       "    </tr>\n",
       "    <tr>\n",
       "      <th>3</th>\n",
       "      <td>True</td>\n",
       "      <td>True</td>\n",
       "      <td>True</td>\n",
       "      <td>True</td>\n",
       "      <td>True</td>\n",
       "    </tr>\n",
       "    <tr>\n",
       "      <th>4</th>\n",
       "      <td>True</td>\n",
       "      <td>True</td>\n",
       "      <td>True</td>\n",
       "      <td>True</td>\n",
       "      <td>True</td>\n",
       "    </tr>\n",
       "    <tr>\n",
       "      <th>5</th>\n",
       "      <td>True</td>\n",
       "      <td>True</td>\n",
       "      <td>True</td>\n",
       "      <td>True</td>\n",
       "      <td>True</td>\n",
       "    </tr>\n",
       "    <tr>\n",
       "      <th>6</th>\n",
       "      <td>True</td>\n",
       "      <td>True</td>\n",
       "      <td>True</td>\n",
       "      <td>True</td>\n",
       "      <td>True</td>\n",
       "    </tr>\n",
       "    <tr>\n",
       "      <th>7</th>\n",
       "      <td>True</td>\n",
       "      <td>True</td>\n",
       "      <td>True</td>\n",
       "      <td>True</td>\n",
       "      <td>True</td>\n",
       "    </tr>\n",
       "  </tbody>\n",
       "</table>\n",
       "</div>"
      ],
      "text/plain": [
       "     Id  Title  MaxScore  AcceptedScore  Difference\n",
       "0  True   True      True           True        True\n",
       "1  True   True      True           True        True\n",
       "2  True   True      True           True        True\n",
       "3  True   True      True           True        True\n",
       "4  True   True      True           True        True\n",
       "5  True   True      True           True        True\n",
       "6  True   True      True           True        True\n",
       "7  True   True      True           True        True"
      ]
     },
     "execution_count": 40,
     "metadata": {},
     "output_type": "execute_result"
    }
   ],
   "source": [
    "np.equal(sql_4, res_4) # Bez zarzutu ;)"
   ]
  },
  {
   "cell_type": "markdown",
   "metadata": {},
   "source": [
    "# Zadanie 5."
   ]
  },
  {
   "cell_type": "markdown",
   "metadata": {},
   "source": [
    "## 5.1. Jaki rezultat mamy osiągnąć?\n",
    "### W tym zadaniu chcemy uzyskać informacje o 10 postach, które mają najwięcej komentarzy.\n",
    "Wartość _Score_ dla komentarza oblicza się odejmując od liczby pozytywnych reakcji liczbę tych negatywnych.\n",
    "Wartość CommentsTotalScore, obliczymy samodzielnie wg algorytmu opisanego w komentarzach poniżej. "
   ]
  },
  {
   "cell_type": "code",
   "execution_count": 41,
   "metadata": {},
   "outputs": [],
   "source": [
    "sql_5 = pd.read_sql_query(\n",
    "    \"\"\"\n",
    "    SELECT\n",
    "        Posts.Title,\n",
    "        CmtTotScr.CommentsTotalScore\n",
    "    FROM (\n",
    "        SELECT\n",
    "            PostID,\n",
    "            UserID,\n",
    "            SUM(Score) AS CommentsTotalScore\n",
    "        FROM Comments\n",
    "        GROUP BY PostID, UserID\n",
    "        ) AS CmtTotScr\n",
    "        JOIN Posts ON Posts.ID=CmtTotScr.PostID AND Posts.OwnerUserId=CmtTotScr.UserID\n",
    "        WHERE Posts.PostTypeId=1\n",
    "        ORDER BY CmtTotScr.CommentsTotalScore DESC\n",
    "        LIMIT 10\n",
    "            \"\"\", conn)"
   ]
  },
  {
   "cell_type": "code",
   "execution_count": 42,
   "metadata": {},
   "outputs": [],
   "source": [
    "# W celu zminimalizowania ilości przetwarzanych danych z ramki Comments wybieramy niezbędne kolumny:\n",
    "# 'Score', 'PostId', 'UserId'. Następnie grupujemy dane względem zmiennych 'PostId' i 'UserId'.\n",
    "tmp = Comments[['Score', 'PostId', 'UserId']].groupby(['PostId', 'UserId'])"
   ]
  },
  {
   "cell_type": "code",
   "execution_count": 43,
   "metadata": {},
   "outputs": [],
   "source": [
    "# Mając takie grupy, agregujemy sumę na kolumnie 'Score'.\n",
    "CmtTotScr =  pd.DataFrame([{'CommentsTotalScore' : ramka.Score.sum(skipna = True),\n",
    "                            'PostId': grupa[0],\n",
    "                            'UserId': grupa[1]} \n",
    "                        for (grupa, ramka) in tmp])"
   ]
  },
  {
   "cell_type": "code",
   "execution_count": 44,
   "metadata": {},
   "outputs": [],
   "source": [
    "# Z ramki Posts wybieramy kolumnę 'Title', potrzebną do ramki wynikowej, 'PostTypeId' potrzebne do późniejszego\n",
    "# filtrowania danch oraz kolumny: 'Id' i 'OwnerUserId', niezbędne do konkatenacji z ramką CmtTotScr. \n",
    "# Następnie łączymy te ramki zgodnie z warunkami: Posts.ID=CmtTotScr.PostID AND Posts.OwnerUserId=CmtTotScr.UserID\n",
    "res_5 = Posts[['Title', 'PostTypeId', 'Id', 'OwnerUserId']].merge(CmtTotScr, left_on = ['Id', 'OwnerUserId'],\n",
    "                                                               right_on = ['PostId', \"UserId\"])\n",
    "# Wybieramy te wiersze, dla których spełniony jest warunek: PostTypeId=1 i wybieramy kolumny 'Title' i \n",
    "# 'CommentsTotalScore' potrzebne do ramki wynikowej. \n",
    "res_5 = res_5[res_5.PostTypeId == 1][['Title', 'CommentsTotalScore']]\n",
    "# Na koniec sortujemy dane malejąco wzgledem zmiennej 'CommentsTotalScore', zerujemy numery wierszy\n",
    "# i wybieramy pierwsze 10 wierszy.\n",
    "res_5 = res_5.sort_values(['CommentsTotalScore'],ascending = False).reset_index(drop = True).iloc[:10,]"
   ]
  },
  {
   "cell_type": "markdown",
   "metadata": {},
   "source": [
    "## 5.2. Sprawdzenie zgodności otrzymanych danych."
   ]
  },
  {
   "cell_type": "markdown",
   "metadata": {},
   "source": [
    "### 5.2.1. Sprawdzenie klasy otrzymanego obiektu."
   ]
  },
  {
   "cell_type": "code",
   "execution_count": 45,
   "metadata": {},
   "outputs": [
    {
     "data": {
      "text/plain": [
       "pandas.core.frame.DataFrame"
      ]
     },
     "execution_count": 45,
     "metadata": {},
     "output_type": "execute_result"
    }
   ],
   "source": [
    "res_5.__class__"
   ]
  },
  {
   "cell_type": "markdown",
   "metadata": {},
   "source": [
    "### 5.2.2. Sprawdzenie poprawności danych wynikowych."
   ]
  },
  {
   "cell_type": "code",
   "execution_count": 46,
   "metadata": {},
   "outputs": [
    {
     "data": {
      "text/html": [
       "<div>\n",
       "<style scoped>\n",
       "    .dataframe tbody tr th:only-of-type {\n",
       "        vertical-align: middle;\n",
       "    }\n",
       "\n",
       "    .dataframe tbody tr th {\n",
       "        vertical-align: top;\n",
       "    }\n",
       "\n",
       "    .dataframe thead th {\n",
       "        text-align: right;\n",
       "    }\n",
       "</style>\n",
       "<table border=\"1\" class=\"dataframe\">\n",
       "  <thead>\n",
       "    <tr style=\"text-align: right;\">\n",
       "      <th></th>\n",
       "      <th>Title</th>\n",
       "      <th>CommentsTotalScore</th>\n",
       "    </tr>\n",
       "  </thead>\n",
       "  <tbody>\n",
       "    <tr>\n",
       "      <th>0</th>\n",
       "      <td>True</td>\n",
       "      <td>True</td>\n",
       "    </tr>\n",
       "    <tr>\n",
       "      <th>1</th>\n",
       "      <td>True</td>\n",
       "      <td>True</td>\n",
       "    </tr>\n",
       "    <tr>\n",
       "      <th>2</th>\n",
       "      <td>True</td>\n",
       "      <td>True</td>\n",
       "    </tr>\n",
       "    <tr>\n",
       "      <th>3</th>\n",
       "      <td>False</td>\n",
       "      <td>True</td>\n",
       "    </tr>\n",
       "    <tr>\n",
       "      <th>4</th>\n",
       "      <td>False</td>\n",
       "      <td>True</td>\n",
       "    </tr>\n",
       "    <tr>\n",
       "      <th>5</th>\n",
       "      <td>False</td>\n",
       "      <td>True</td>\n",
       "    </tr>\n",
       "    <tr>\n",
       "      <th>6</th>\n",
       "      <td>True</td>\n",
       "      <td>True</td>\n",
       "    </tr>\n",
       "    <tr>\n",
       "      <th>7</th>\n",
       "      <td>True</td>\n",
       "      <td>True</td>\n",
       "    </tr>\n",
       "    <tr>\n",
       "      <th>8</th>\n",
       "      <td>False</td>\n",
       "      <td>True</td>\n",
       "    </tr>\n",
       "    <tr>\n",
       "      <th>9</th>\n",
       "      <td>False</td>\n",
       "      <td>True</td>\n",
       "    </tr>\n",
       "  </tbody>\n",
       "</table>\n",
       "</div>"
      ],
      "text/plain": [
       "   Title  CommentsTotalScore\n",
       "0   True                True\n",
       "1   True                True\n",
       "2   True                True\n",
       "3  False                True\n",
       "4  False                True\n",
       "5  False                True\n",
       "6   True                True\n",
       "7   True                True\n",
       "8  False                True\n",
       "9  False                True"
      ]
     },
     "execution_count": 46,
     "metadata": {},
     "output_type": "execute_result"
    }
   ],
   "source": [
    "np.equal(sql_5, res_5)"
   ]
  },
  {
   "cell_type": "markdown",
   "metadata": {},
   "source": [
    "# Uwaga!"
   ]
  },
  {
   "cell_type": "code",
   "execution_count": 49,
   "metadata": {},
   "outputs": [],
   "source": [
    "# Wszelkie niezgodności wynikają z różnych permutacji wierszy w porównywanych ramkach. Spójrzmy poniżej i sami \n",
    "# porównajmy. Wszystkie różnice występują wówczas, gdy mamy sytuację remisu. "
   ]
  },
  {
   "cell_type": "code",
   "execution_count": 47,
   "metadata": {},
   "outputs": [
    {
     "data": {
      "text/html": [
       "<div>\n",
       "<style scoped>\n",
       "    .dataframe tbody tr th:only-of-type {\n",
       "        vertical-align: middle;\n",
       "    }\n",
       "\n",
       "    .dataframe tbody tr th {\n",
       "        vertical-align: top;\n",
       "    }\n",
       "\n",
       "    .dataframe thead th {\n",
       "        text-align: right;\n",
       "    }\n",
       "</style>\n",
       "<table border=\"1\" class=\"dataframe\">\n",
       "  <thead>\n",
       "    <tr style=\"text-align: right;\">\n",
       "      <th></th>\n",
       "      <th>Title</th>\n",
       "      <th>CommentsTotalScore</th>\n",
       "    </tr>\n",
       "  </thead>\n",
       "  <tbody>\n",
       "    <tr>\n",
       "      <th>0</th>\n",
       "      <td>How to intentionally get denied entry to the U...</td>\n",
       "      <td>75</td>\n",
       "    </tr>\n",
       "    <tr>\n",
       "      <th>1</th>\n",
       "      <td>How can I deal with people asking to switch se...</td>\n",
       "      <td>32</td>\n",
       "    </tr>\n",
       "    <tr>\n",
       "      <th>2</th>\n",
       "      <td>What is France's traditional costume?</td>\n",
       "      <td>26</td>\n",
       "    </tr>\n",
       "    <tr>\n",
       "      <th>3</th>\n",
       "      <td>What's the longest scheduled public bus ride i...</td>\n",
       "      <td>25</td>\n",
       "    </tr>\n",
       "    <tr>\n",
       "      <th>4</th>\n",
       "      <td>Can I have a watermelon in hand luggage?</td>\n",
       "      <td>25</td>\n",
       "    </tr>\n",
       "    <tr>\n",
       "      <th>5</th>\n",
       "      <td>How does President Trump's travel ban affect n...</td>\n",
       "      <td>25</td>\n",
       "    </tr>\n",
       "    <tr>\n",
       "      <th>6</th>\n",
       "      <td>Caught speeding 111 Mph (179 km/h) in Californ...</td>\n",
       "      <td>24</td>\n",
       "    </tr>\n",
       "    <tr>\n",
       "      <th>7</th>\n",
       "      <td>Returning US Citizen lost passport in Canada</td>\n",
       "      <td>23</td>\n",
       "    </tr>\n",
       "    <tr>\n",
       "      <th>8</th>\n",
       "      <td>Legalities and safety concerns of visiting pro...</td>\n",
       "      <td>20</td>\n",
       "    </tr>\n",
       "    <tr>\n",
       "      <th>9</th>\n",
       "      <td>India just demonetized all Rs 500 &amp; 1000 notes...</td>\n",
       "      <td>20</td>\n",
       "    </tr>\n",
       "  </tbody>\n",
       "</table>\n",
       "</div>"
      ],
      "text/plain": [
       "                                               Title  CommentsTotalScore\n",
       "0  How to intentionally get denied entry to the U...                  75\n",
       "1  How can I deal with people asking to switch se...                  32\n",
       "2              What is France's traditional costume?                  26\n",
       "3  What's the longest scheduled public bus ride i...                  25\n",
       "4           Can I have a watermelon in hand luggage?                  25\n",
       "5  How does President Trump's travel ban affect n...                  25\n",
       "6  Caught speeding 111 Mph (179 km/h) in Californ...                  24\n",
       "7       Returning US Citizen lost passport in Canada                  23\n",
       "8  Legalities and safety concerns of visiting pro...                  20\n",
       "9  India just demonetized all Rs 500 & 1000 notes...                  20"
      ]
     },
     "execution_count": 47,
     "metadata": {},
     "output_type": "execute_result"
    }
   ],
   "source": [
    "sql_5"
   ]
  },
  {
   "cell_type": "code",
   "execution_count": 48,
   "metadata": {},
   "outputs": [
    {
     "data": {
      "text/html": [
       "<div>\n",
       "<style scoped>\n",
       "    .dataframe tbody tr th:only-of-type {\n",
       "        vertical-align: middle;\n",
       "    }\n",
       "\n",
       "    .dataframe tbody tr th {\n",
       "        vertical-align: top;\n",
       "    }\n",
       "\n",
       "    .dataframe thead th {\n",
       "        text-align: right;\n",
       "    }\n",
       "</style>\n",
       "<table border=\"1\" class=\"dataframe\">\n",
       "  <thead>\n",
       "    <tr style=\"text-align: right;\">\n",
       "      <th></th>\n",
       "      <th>Title</th>\n",
       "      <th>CommentsTotalScore</th>\n",
       "    </tr>\n",
       "  </thead>\n",
       "  <tbody>\n",
       "    <tr>\n",
       "      <th>0</th>\n",
       "      <td>How to intentionally get denied entry to the U...</td>\n",
       "      <td>75</td>\n",
       "    </tr>\n",
       "    <tr>\n",
       "      <th>1</th>\n",
       "      <td>How can I deal with people asking to switch se...</td>\n",
       "      <td>32</td>\n",
       "    </tr>\n",
       "    <tr>\n",
       "      <th>2</th>\n",
       "      <td>What is France's traditional costume?</td>\n",
       "      <td>26</td>\n",
       "    </tr>\n",
       "    <tr>\n",
       "      <th>3</th>\n",
       "      <td>Can I have a watermelon in hand luggage?</td>\n",
       "      <td>25</td>\n",
       "    </tr>\n",
       "    <tr>\n",
       "      <th>4</th>\n",
       "      <td>How does President Trump's travel ban affect n...</td>\n",
       "      <td>25</td>\n",
       "    </tr>\n",
       "    <tr>\n",
       "      <th>5</th>\n",
       "      <td>What's the longest scheduled public bus ride i...</td>\n",
       "      <td>25</td>\n",
       "    </tr>\n",
       "    <tr>\n",
       "      <th>6</th>\n",
       "      <td>Caught speeding 111 Mph (179 km/h) in Californ...</td>\n",
       "      <td>24</td>\n",
       "    </tr>\n",
       "    <tr>\n",
       "      <th>7</th>\n",
       "      <td>Returning US Citizen lost passport in Canada</td>\n",
       "      <td>23</td>\n",
       "    </tr>\n",
       "    <tr>\n",
       "      <th>8</th>\n",
       "      <td>India just demonetized all Rs 500 &amp; 1000 notes...</td>\n",
       "      <td>20</td>\n",
       "    </tr>\n",
       "    <tr>\n",
       "      <th>9</th>\n",
       "      <td>Legalities and safety concerns of visiting pro...</td>\n",
       "      <td>20</td>\n",
       "    </tr>\n",
       "  </tbody>\n",
       "</table>\n",
       "</div>"
      ],
      "text/plain": [
       "                                               Title  CommentsTotalScore\n",
       "0  How to intentionally get denied entry to the U...                  75\n",
       "1  How can I deal with people asking to switch se...                  32\n",
       "2              What is France's traditional costume?                  26\n",
       "3           Can I have a watermelon in hand luggage?                  25\n",
       "4  How does President Trump's travel ban affect n...                  25\n",
       "5  What's the longest scheduled public bus ride i...                  25\n",
       "6  Caught speeding 111 Mph (179 km/h) in Californ...                  24\n",
       "7       Returning US Citizen lost passport in Canada                  23\n",
       "8  India just demonetized all Rs 500 & 1000 notes...                  20\n",
       "9  Legalities and safety concerns of visiting pro...                  20"
      ]
     },
     "execution_count": 48,
     "metadata": {},
     "output_type": "execute_result"
    }
   ],
   "source": [
    "res_5"
   ]
  },
  {
   "cell_type": "markdown",
   "metadata": {},
   "source": [
    "# Zadanie 6. "
   ]
  },
  {
   "cell_type": "markdown",
   "metadata": {},
   "source": [
    "## 6.1. Jaki rezultat mamy osiągnąć?\n",
    "### Wybieramy użytkowników, którzy mają odznakę klasy '1', którą dotychczas przyznano co najmniej 2 razy i co najwyżej 10 razy.\n",
    "Dane o użytkownikach, które chcemy wyekstrahować to: Id, nazwa, wartość zmiennej 'Reputation', wiek oraz lokalizacja."
   ]
  },
  {
   "cell_type": "code",
   "execution_count": 50,
   "metadata": {},
   "outputs": [],
   "source": [
    "sql_6 = pd.read_sql_query(\"\"\"\n",
    "                SELECT DISTINCT\n",
    "                      Users.Id,\n",
    "                      Users.DisplayName,\n",
    "                      Users.Reputation,\n",
    "                      Users.Age,\n",
    "                      Users.Location\n",
    "                  FROM (\n",
    "                          SELECT\n",
    "                            Name, UserID\n",
    "                          FROM Badges\n",
    "                          WHERE Name IN (\n",
    "                            SELECT\n",
    "                              Name\n",
    "                            FROM Badges\n",
    "                            WHERE Class=1\n",
    "                            GROUP BY Name\n",
    "                            HAVING COUNT(*) BETWEEN 2 AND 10\n",
    "                      )\n",
    "                          AND Class=1\n",
    "                    ) AS ValuableBadges\n",
    "                  JOIN Users ON ValuableBadges.UserId=Users.Id\"\"\", conn)"
   ]
  },
  {
   "cell_type": "code",
   "execution_count": 51,
   "metadata": {
    "scrolled": true
   },
   "outputs": [],
   "source": [
    "# Z ramki Badges(odznaki) wybieramy wiersze, których klasa to 1. Otrzymane dane grupujemy po zmiennej 'Name'.\n",
    "# Za pomocą size() określamy liczności poszczególnych grup. Liczności te umieszczamy w nowej kolumnie 'Count'. \n",
    "tmp = Badges[Badges.Class == 1].groupby('Name').size().reset_index(name='Count')\n",
    "# Wybieramy te nazwy, dla których liczności grup zawierają się w przedziale obustronnie domkniętym [2, 10]\n",
    "tmp = tmp[(tmp.Count >= 2) & (tmp.Count <= 10)][['Name']]\n",
    "# Kolumnę names zamieniamy na listę, aby móc użyć jej jako argument funkcji isin()\n",
    "tmp = tmp['Name'].tolist()\n",
    "# Z ramki Badges wybieramy te wiersze, których nazwy występują w wyżej otrzymanej ramce.\n",
    "ValuableBadges = Badges[Badges.Name.isin(tmp)]\n",
    "# Z tak otrzymanego zasobu danych wybieramy wiersze z odznakami klasy 1 i kolumny 'Name', 'UserId'.\n",
    "ValuableBadges = ValuableBadges[ValuableBadges.Class == 1][['Name', 'UserId']]\n",
    "# Następnie łączymy ramkę ValuableBadges z ramką Users wg kryterium ValuableBadges.UserId=Users.Id \n",
    "# i wybieramy pożądane kolumny. \n",
    "res_6 = ValuableBadges.merge(Users, left_on = 'UserId', right_on = \"Id\")[['Id', 'DisplayName','Reputation', 'Age','Location']]\n",
    "res_6 = res_6.drop_duplicates().reset_index(drop = True)"
   ]
  },
  {
   "cell_type": "markdown",
   "metadata": {},
   "source": [
    "## 6.2. Sprawdzenie zgodności otrzymanych danych."
   ]
  },
  {
   "cell_type": "markdown",
   "metadata": {},
   "source": [
    "### 6.2.1. Sprawdzenie klasy otrzymanego obiektu."
   ]
  },
  {
   "cell_type": "code",
   "execution_count": 52,
   "metadata": {},
   "outputs": [
    {
     "data": {
      "text/plain": [
       "pandas.core.frame.DataFrame"
      ]
     },
     "execution_count": 52,
     "metadata": {},
     "output_type": "execute_result"
    }
   ],
   "source": [
    "res_6.__class__"
   ]
  },
  {
   "cell_type": "markdown",
   "metadata": {},
   "source": [
    "### 6.2.2. Sprawdzenie poprawności danych wynikowych."
   ]
  },
  {
   "cell_type": "code",
   "execution_count": 53,
   "metadata": {},
   "outputs": [
    {
     "data": {
      "text/plain": [
       "True"
      ]
     },
     "execution_count": 53,
     "metadata": {},
     "output_type": "execute_result"
    }
   ],
   "source": [
    "res_6.equals(sql_6) # Wszystko się zgadza, ale czy na pewno?"
   ]
  },
  {
   "cell_type": "code",
   "execution_count": 54,
   "metadata": {},
   "outputs": [
    {
     "data": {
      "text/html": [
       "<div>\n",
       "<style scoped>\n",
       "    .dataframe tbody tr th:only-of-type {\n",
       "        vertical-align: middle;\n",
       "    }\n",
       "\n",
       "    .dataframe tbody tr th {\n",
       "        vertical-align: top;\n",
       "    }\n",
       "\n",
       "    .dataframe thead th {\n",
       "        text-align: right;\n",
       "    }\n",
       "</style>\n",
       "<table border=\"1\" class=\"dataframe\">\n",
       "  <thead>\n",
       "    <tr style=\"text-align: right;\">\n",
       "      <th></th>\n",
       "      <th>Id</th>\n",
       "      <th>DisplayName</th>\n",
       "      <th>Reputation</th>\n",
       "      <th>Age</th>\n",
       "      <th>Location</th>\n",
       "    </tr>\n",
       "  </thead>\n",
       "  <tbody>\n",
       "    <tr>\n",
       "      <th>0</th>\n",
       "      <td>True</td>\n",
       "      <td>True</td>\n",
       "      <td>True</td>\n",
       "      <td>True</td>\n",
       "      <td>True</td>\n",
       "    </tr>\n",
       "    <tr>\n",
       "      <th>1</th>\n",
       "      <td>True</td>\n",
       "      <td>True</td>\n",
       "      <td>True</td>\n",
       "      <td>True</td>\n",
       "      <td>True</td>\n",
       "    </tr>\n",
       "    <tr>\n",
       "      <th>2</th>\n",
       "      <td>True</td>\n",
       "      <td>True</td>\n",
       "      <td>True</td>\n",
       "      <td>True</td>\n",
       "      <td>True</td>\n",
       "    </tr>\n",
       "    <tr>\n",
       "      <th>3</th>\n",
       "      <td>True</td>\n",
       "      <td>True</td>\n",
       "      <td>True</td>\n",
       "      <td>False</td>\n",
       "      <td>True</td>\n",
       "    </tr>\n",
       "    <tr>\n",
       "      <th>4</th>\n",
       "      <td>True</td>\n",
       "      <td>True</td>\n",
       "      <td>True</td>\n",
       "      <td>True</td>\n",
       "      <td>True</td>\n",
       "    </tr>\n",
       "    <tr>\n",
       "      <th>5</th>\n",
       "      <td>True</td>\n",
       "      <td>True</td>\n",
       "      <td>True</td>\n",
       "      <td>False</td>\n",
       "      <td>False</td>\n",
       "    </tr>\n",
       "    <tr>\n",
       "      <th>6</th>\n",
       "      <td>True</td>\n",
       "      <td>True</td>\n",
       "      <td>True</td>\n",
       "      <td>False</td>\n",
       "      <td>False</td>\n",
       "    </tr>\n",
       "    <tr>\n",
       "      <th>7</th>\n",
       "      <td>True</td>\n",
       "      <td>True</td>\n",
       "      <td>True</td>\n",
       "      <td>False</td>\n",
       "      <td>True</td>\n",
       "    </tr>\n",
       "    <tr>\n",
       "      <th>8</th>\n",
       "      <td>True</td>\n",
       "      <td>True</td>\n",
       "      <td>True</td>\n",
       "      <td>False</td>\n",
       "      <td>True</td>\n",
       "    </tr>\n",
       "    <tr>\n",
       "      <th>9</th>\n",
       "      <td>True</td>\n",
       "      <td>True</td>\n",
       "      <td>True</td>\n",
       "      <td>True</td>\n",
       "      <td>True</td>\n",
       "    </tr>\n",
       "  </tbody>\n",
       "</table>\n",
       "</div>"
      ],
      "text/plain": [
       "     Id  DisplayName  Reputation    Age  Location\n",
       "0  True         True        True   True      True\n",
       "1  True         True        True   True      True\n",
       "2  True         True        True   True      True\n",
       "3  True         True        True  False      True\n",
       "4  True         True        True   True      True\n",
       "5  True         True        True  False     False\n",
       "6  True         True        True  False     False\n",
       "7  True         True        True  False      True\n",
       "8  True         True        True  False      True\n",
       "9  True         True        True   True      True"
      ]
     },
     "execution_count": 54,
     "metadata": {},
     "output_type": "execute_result"
    }
   ],
   "source": [
    "np.equal(res_6, sql_6)"
   ]
  },
  {
   "cell_type": "code",
   "execution_count": 59,
   "metadata": {},
   "outputs": [],
   "source": [
    "# Wszystkie wartości 'False' są zwrócone w miejscach, gdzie występują braki danych. \n",
    "# Wynika to z tego, o czym pisałam przy okazji pierwszego zadania. A mianowicie z braku umiejętności porównywania\n",
    "# wyrazów NaN. Dlatego też, tak jak w pierwszym zadaniu, nie zdecydowałam się na zamianę obiektów NaN na None, gdyż\n",
    "# ostatecznie porównanie i tak w tych miejscach zwróciłoby 'False'."
   ]
  },
  {
   "cell_type": "markdown",
   "metadata": {},
   "source": [
    "# Zadanie 7. "
   ]
  },
  {
   "cell_type": "markdown",
   "metadata": {},
   "source": [
    "## 7.1. Jaki rezultat mamy osiągnąć?\n",
    "### W tym zadaniu chcemy dowiedzieć się jakie posty miały najwięcej głosów przed rokiem 2016 i 0 w latach 2016-2017."
   ]
  },
  {
   "cell_type": "code",
   "execution_count": 55,
   "metadata": {},
   "outputs": [],
   "source": [
    "sql_7 = pd.read_sql_query(\"\"\"\n",
    "                SELECT\n",
    "                      Posts.Title,\n",
    "                      VotesByAge2.OldVotes\n",
    "                  FROM Posts\n",
    "                  JOIN (\n",
    "                      SELECT\n",
    "                            PostId,\n",
    "                            MAX(CASE WHEN VoteDate = 'new' THEN Total ELSE 0 END) NewVotes,\n",
    "                            MAX(CASE WHEN VoteDate = 'old' THEN Total ELSE 0 END) OldVotes,\n",
    "                            SUM(Total) AS Votes\n",
    "                      FROM (\n",
    "                          SELECT\n",
    "                              PostId,\n",
    "                              CASE STRFTIME('%Y', CreationDate)\n",
    "                                  WHEN '2017' THEN 'new'\n",
    "                                  WHEN '2016' THEN 'new'\n",
    "                                  ELSE 'old'\n",
    "                                  END VoteDate,\n",
    "                              COUNT(*) AS Total\n",
    "                          FROM Votes\n",
    "                          WHERE VoteTypeId=2\n",
    "                          GROUP BY PostId, VoteDate\n",
    "                      ) AS VotesByAge\n",
    "                      GROUP BY VotesByAge.PostId\n",
    "                      HAVING NewVotes=0\n",
    "                    ) AS VotesByAge2 ON VotesByAge2.PostId=Posts.ID\n",
    "                    WHERE Posts.PostTypeId=1\n",
    "                    ORDER BY VotesByAge2.OldVotes DESC\n",
    "                    LIMIT 10\n",
    "\"\"\", conn)"
   ]
  },
  {
   "cell_type": "code",
   "execution_count": 56,
   "metadata": {},
   "outputs": [],
   "source": [
    "# Z ramki Votes wybieramy głosy typu drugiego i kolumny PostId i CreationDate\n",
    "df1 = Votes[Votes.VoteTypeId == 2][['PostId', 'CreationDate']]\n",
    "# Następnie z daty ekstrahujemy rok.\n",
    "# W tym celu zamieniamy kolumnę CreationDate na listę i tworzymy listę pomocniczą VoteDate,\n",
    "# w której będziemy zamieniać pełne daty na same lata i odpowiednio je etykietować.\n",
    "VoteDate = df1.CreationDate.values.tolist()\n",
    "n = len(VoteDate)\n",
    "# Jeśli głos został uwtorzony przed rokiem 2016 to etykietujemy go jako 'old', a jeśli w latach 2016-2017, jako 'new'\n",
    "\n",
    "for i in range(n):\n",
    "    Year = VoteDate[i].split(\"-\")[0]\n",
    "    if (Year == '2017' or Year == '2016'):\n",
    "        VoteDate[i] = 'new'\n",
    "    else:\n",
    "        VoteDate[i] = 'old'\n",
    "\n",
    "# Listę VoteDate z zamienionymi wartościami umieszczamy w ramce\n",
    "df1['VoteDate'] = VoteDate"
   ]
  },
  {
   "cell_type": "code",
   "execution_count": 57,
   "metadata": {},
   "outputs": [],
   "source": [
    "# Z ramki wybieramy kolumny 'PostId', 'VoteDate'. Pozostałe nie będą nam już potrzebne do dalszej pracy. \n",
    "# Grupujemy po zmiennych znajdujących się w wybranych kolumnach i za pomocą funkcji size() określamy liczności\n",
    "# poszczególnych grup. Otrzymane wyniki umieszczamy w nowej kolumnie o nazwie 'Total'. \n",
    "VotesByAge = df1[['PostId', 'VoteDate']].groupby(['PostId', 'VoteDate']).size(\n",
    "            ).reset_index(name='Total')"
   ]
  },
  {
   "cell_type": "code",
   "execution_count": 58,
   "metadata": {},
   "outputs": [],
   "source": [
    "# Kolumna VoteDate jest wspólna. Występują w niej zarówno stare, jak i nowe głosy.\n",
    "# To co będziemy teraz robić, to rozdzielenie kolumny 'VoteDate' na dwie. \n",
    "# Jedna z nich będzie przechowywać ilościowe informacje o nowych głosach a druga o starych. \n",
    "# Aby to zrobić zamieniamy kolumny VoteDate oraz Total na listy. W celu uniknięcia pomyłki listy pomocniczne \n",
    "# nazywamy nazwami kolumn.\n",
    "VoteDate = VotesByAge.VoteDate.values.tolist()\n",
    "Total = VotesByAge.Total.values.tolist()\n",
    "n = len(VoteDate)\n",
    "# Tworzymy nowe listy NewVotes i OldVotes, które staną się naszymi nowymi kolumnami.\n",
    "NewVotes = [0 for i in range(n)]\n",
    "OldVotes = [0 for i in range(n)]\n",
    "# A następnie za pomocą pętli przechodzimy po liście VoteDate i w odpowiedniej liście Old/New Votes zapisujemy\n",
    "# ilości poszczególnych głosów.\n",
    "for i in range(n):\n",
    "    if VoteDate[i] == 'new':\n",
    "        NewVotes[i] = Total[i]\n",
    "    else:\n",
    "        OldVotes[i] = Total[i]"
   ]
  },
  {
   "cell_type": "code",
   "execution_count": 59,
   "metadata": {},
   "outputs": [],
   "source": [
    "# Tworzymy nową ramkę złożoną z kolumn 'PostId', 'Total' ramki VotesByAge.\n",
    "df = VotesByAge[['PostId', 'Total']]\n",
    "# A następnie dokonujemy na niej konkatenacji z otrzymanymi wyżej listami Old/New Votes\n",
    "df['NewVotes'] = NewVotes\n",
    "df['OldVotes'] = OldVotes"
   ]
  },
  {
   "cell_type": "code",
   "execution_count": 60,
   "metadata": {},
   "outputs": [],
   "source": [
    "# Tak otrzymaną ramkę grupujemy po zmiennej 'PostId'\n",
    "tmp = df.groupby('PostId')\n",
    "# A następnie na pogrupowanych danych agregujemy funkcje: sum i max.\n",
    "# Sumujemy Total a maksymalne wartości wyciągamy dla kolumn Old/New Votes.\n",
    "# Tak powstałąm ramkę danych opatrujemy nazwą VotesByAge2\n",
    "VotesByAge2 =  pd.DataFrame([{'Votes' : ramka.Total.sum(skipna = True),\n",
    "                       'NewVotes' : ramka.NewVotes.max(skipna = True),\n",
    "                       'OldVotes' : ramka.OldVotes.max(skipna = True),\n",
    "                       'PostId': grupa} \n",
    "                        for (grupa, ramka) in tmp])"
   ]
  },
  {
   "cell_type": "code",
   "execution_count": 61,
   "metadata": {},
   "outputs": [],
   "source": [
    "# Z utworzonej przed chwilą ramki ekstrachujemy głosy, które nie miały nowych głosów (VotesByAge2.NewVotes == 0)\n",
    "VotesByAge2 = VotesByAge2[VotesByAge2.NewVotes == 0]\n",
    "# A następnie łączymy ją z ramką Posts.\n",
    "res_7 = Posts.merge(VotesByAge2, left_on = 'Id', right_on = 'PostId')\n",
    "# Ramka df7, to ramka dodatkowa na potrzeby testów\n",
    "df7 = res_7[res_7.PostTypeId == 1].sort_values('OldVotes', ascending = False)[['Title', 'OldVotes']].reset_index().iloc[:12,].drop(columns = 'index')\n",
    "# Wybieramy wiersze, dla których typ postu to: 1. Sortujemy wartości malejąco po zmiennej 'OldVotes' a następnie\n",
    "# wybieramy pierwsze 10 rekordów.\n",
    "# Ramka df7, to ramka dodatkowa na potrzeby testów\n",
    "df7 = res_7[res_7.PostTypeId == 1].sort_values('OldVotes', ascending = False)[['Title', 'OldVotes']].reset_index().iloc[:12,].drop(columns = 'index')\n",
    "res_7 = res_7[res_7.PostTypeId == 1].sort_values('OldVotes', ascending = False)[['Title', 'OldVotes']].reset_index().iloc[:10,].drop(columns = 'index')"
   ]
  },
  {
   "cell_type": "markdown",
   "metadata": {},
   "source": [
    "## 7.2. Sprawdzenie zgodności otrzymanych danych."
   ]
  },
  {
   "cell_type": "markdown",
   "metadata": {},
   "source": [
    "### 7.2.1. Sprawdzenie klasy otrzymanego obiektu."
   ]
  },
  {
   "cell_type": "code",
   "execution_count": 62,
   "metadata": {},
   "outputs": [
    {
     "data": {
      "text/plain": [
       "pandas.core.frame.DataFrame"
      ]
     },
     "execution_count": 62,
     "metadata": {},
     "output_type": "execute_result"
    }
   ],
   "source": [
    "res_7.__class__"
   ]
  },
  {
   "cell_type": "markdown",
   "metadata": {},
   "source": [
    "### 7.2.2. Sprawdzenie poprawności danych wynikowych."
   ]
  },
  {
   "cell_type": "code",
   "execution_count": 63,
   "metadata": {},
   "outputs": [
    {
     "data": {
      "text/html": [
       "<div>\n",
       "<style scoped>\n",
       "    .dataframe tbody tr th:only-of-type {\n",
       "        vertical-align: middle;\n",
       "    }\n",
       "\n",
       "    .dataframe tbody tr th {\n",
       "        vertical-align: top;\n",
       "    }\n",
       "\n",
       "    .dataframe thead th {\n",
       "        text-align: right;\n",
       "    }\n",
       "</style>\n",
       "<table border=\"1\" class=\"dataframe\">\n",
       "  <thead>\n",
       "    <tr style=\"text-align: right;\">\n",
       "      <th></th>\n",
       "      <th>Title</th>\n",
       "      <th>OldVotes</th>\n",
       "    </tr>\n",
       "  </thead>\n",
       "  <tbody>\n",
       "    <tr>\n",
       "      <th>0</th>\n",
       "      <td>True</td>\n",
       "      <td>True</td>\n",
       "    </tr>\n",
       "    <tr>\n",
       "      <th>1</th>\n",
       "      <td>True</td>\n",
       "      <td>True</td>\n",
       "    </tr>\n",
       "    <tr>\n",
       "      <th>2</th>\n",
       "      <td>True</td>\n",
       "      <td>True</td>\n",
       "    </tr>\n",
       "    <tr>\n",
       "      <th>3</th>\n",
       "      <td>True</td>\n",
       "      <td>True</td>\n",
       "    </tr>\n",
       "    <tr>\n",
       "      <th>4</th>\n",
       "      <td>True</td>\n",
       "      <td>True</td>\n",
       "    </tr>\n",
       "    <tr>\n",
       "      <th>5</th>\n",
       "      <td>True</td>\n",
       "      <td>True</td>\n",
       "    </tr>\n",
       "    <tr>\n",
       "      <th>6</th>\n",
       "      <td>False</td>\n",
       "      <td>True</td>\n",
       "    </tr>\n",
       "    <tr>\n",
       "      <th>7</th>\n",
       "      <td>False</td>\n",
       "      <td>True</td>\n",
       "    </tr>\n",
       "    <tr>\n",
       "      <th>8</th>\n",
       "      <td>False</td>\n",
       "      <td>True</td>\n",
       "    </tr>\n",
       "    <tr>\n",
       "      <th>9</th>\n",
       "      <td>True</td>\n",
       "      <td>True</td>\n",
       "    </tr>\n",
       "  </tbody>\n",
       "</table>\n",
       "</div>"
      ],
      "text/plain": [
       "   Title  OldVotes\n",
       "0   True      True\n",
       "1   True      True\n",
       "2   True      True\n",
       "3   True      True\n",
       "4   True      True\n",
       "5   True      True\n",
       "6  False      True\n",
       "7  False      True\n",
       "8  False      True\n",
       "9   True      True"
      ]
     },
     "execution_count": 63,
     "metadata": {},
     "output_type": "execute_result"
    }
   ],
   "source": [
    "np.equal(res_7, sql_7)"
   ]
  },
  {
   "cell_type": "code",
   "execution_count": null,
   "metadata": {},
   "outputs": [],
   "source": [
    "# W tym zadaniu powtarza nam się historia z zadania 2. \n",
    "# Zwróćmy uwagę jak w powyższej tabeli ładnie widać, że wiersze, które się różnią w ramkach mają takie same wartości\n",
    "# zmiennej, względem której sortowaliśmy. \n",
    "# Aby udowodnić, że ramki posiadają takie same dane zmodyfikujmy nieco polecenie i spójrzmy jak wyglądałyby \n",
    "# gdybyśmy wzięli pierwsze 12 wierszy dla każdej. "
   ]
  },
  {
   "cell_type": "code",
   "execution_count": 64,
   "metadata": {},
   "outputs": [
    {
     "data": {
      "text/html": [
       "<div>\n",
       "<style scoped>\n",
       "    .dataframe tbody tr th:only-of-type {\n",
       "        vertical-align: middle;\n",
       "    }\n",
       "\n",
       "    .dataframe tbody tr th {\n",
       "        vertical-align: top;\n",
       "    }\n",
       "\n",
       "    .dataframe thead th {\n",
       "        text-align: right;\n",
       "    }\n",
       "</style>\n",
       "<table border=\"1\" class=\"dataframe\">\n",
       "  <thead>\n",
       "    <tr style=\"text-align: right;\">\n",
       "      <th></th>\n",
       "      <th>Title</th>\n",
       "      <th>OldVotes</th>\n",
       "    </tr>\n",
       "  </thead>\n",
       "  <tbody>\n",
       "    <tr>\n",
       "      <th>0</th>\n",
       "      <td>Which European cities have bike rental station...</td>\n",
       "      <td>39</td>\n",
       "    </tr>\n",
       "    <tr>\n",
       "      <th>1</th>\n",
       "      <td>Why do hostels require you to 'rent' bedding?</td>\n",
       "      <td>28</td>\n",
       "    </tr>\n",
       "    <tr>\n",
       "      <th>2</th>\n",
       "      <td>What to do with your valuables on a low-cost h...</td>\n",
       "      <td>25</td>\n",
       "    </tr>\n",
       "    <tr>\n",
       "      <th>3</th>\n",
       "      <td>Can't check-in to a hotel because I am 18</td>\n",
       "      <td>25</td>\n",
       "    </tr>\n",
       "    <tr>\n",
       "      <th>4</th>\n",
       "      <td>What are some good ways to find things to expl...</td>\n",
       "      <td>24</td>\n",
       "    </tr>\n",
       "    <tr>\n",
       "      <th>5</th>\n",
       "      <td>Alarm Clock without Noise? To wake up in commo...</td>\n",
       "      <td>24</td>\n",
       "    </tr>\n",
       "    <tr>\n",
       "      <th>6</th>\n",
       "      <td>What times of the year are best for visiting F...</td>\n",
       "      <td>23</td>\n",
       "    </tr>\n",
       "    <tr>\n",
       "      <th>7</th>\n",
       "      <td>What is the business model of commercial free ...</td>\n",
       "      <td>23</td>\n",
       "    </tr>\n",
       "    <tr>\n",
       "      <th>8</th>\n",
       "      <td>Getting work on a cruise ship in order to travel</td>\n",
       "      <td>23</td>\n",
       "    </tr>\n",
       "    <tr>\n",
       "      <th>9</th>\n",
       "      <td>Carrying medicines internationally for a friend</td>\n",
       "      <td>23</td>\n",
       "    </tr>\n",
       "    <tr>\n",
       "      <th>10</th>\n",
       "      <td>Should I avoid overnight flights from Dubai to...</td>\n",
       "      <td>23</td>\n",
       "    </tr>\n",
       "    <tr>\n",
       "      <th>11</th>\n",
       "      <td>What is the advantage / reason for many trams ...</td>\n",
       "      <td>23</td>\n",
       "    </tr>\n",
       "  </tbody>\n",
       "</table>\n",
       "</div>"
      ],
      "text/plain": [
       "                                                Title  OldVotes\n",
       "0   Which European cities have bike rental station...        39\n",
       "1       Why do hostels require you to 'rent' bedding?        28\n",
       "2   What to do with your valuables on a low-cost h...        25\n",
       "3           Can't check-in to a hotel because I am 18        25\n",
       "4   What are some good ways to find things to expl...        24\n",
       "5   Alarm Clock without Noise? To wake up in commo...        24\n",
       "6   What times of the year are best for visiting F...        23\n",
       "7   What is the business model of commercial free ...        23\n",
       "8    Getting work on a cruise ship in order to travel        23\n",
       "9     Carrying medicines internationally for a friend        23\n",
       "10  Should I avoid overnight flights from Dubai to...        23\n",
       "11  What is the advantage / reason for many trams ...        23"
      ]
     },
     "execution_count": 64,
     "metadata": {},
     "output_type": "execute_result"
    }
   ],
   "source": [
    "df_sql_7 = pd.read_sql_query(\"\"\"\n",
    "                SELECT\n",
    "                      Posts.Title,\n",
    "                      VotesByAge2.OldVotes\n",
    "                  FROM Posts\n",
    "                  JOIN (\n",
    "                      SELECT\n",
    "                            PostId,\n",
    "                            MAX(CASE WHEN VoteDate = 'new' THEN Total ELSE 0 END) NewVotes,\n",
    "                            MAX(CASE WHEN VoteDate = 'old' THEN Total ELSE 0 END) OldVotes,\n",
    "                            SUM(Total) AS Votes\n",
    "                      FROM (\n",
    "                          SELECT\n",
    "                              PostId,\n",
    "                              CASE STRFTIME('%Y', CreationDate)\n",
    "                                  WHEN '2017' THEN 'new'\n",
    "                                  WHEN '2016' THEN 'new'\n",
    "                                  ELSE 'old'\n",
    "                                  END VoteDate,\n",
    "                              COUNT(*) AS Total\n",
    "                          FROM Votes\n",
    "                          WHERE VoteTypeId=2\n",
    "                          GROUP BY PostId, VoteDate\n",
    "                      ) AS VotesByAge\n",
    "                      GROUP BY VotesByAge.PostId\n",
    "                      HAVING NewVotes=0\n",
    "                    ) AS VotesByAge2 ON VotesByAge2.PostId=Posts.ID\n",
    "                    WHERE Posts.PostTypeId=1\n",
    "                    ORDER BY VotesByAge2.OldVotes DESC\n",
    "                    LIMIT 12\n",
    "\"\"\", conn)\n",
    "df_sql_7"
   ]
  },
  {
   "cell_type": "code",
   "execution_count": 65,
   "metadata": {},
   "outputs": [
    {
     "data": {
      "text/html": [
       "<div>\n",
       "<style scoped>\n",
       "    .dataframe tbody tr th:only-of-type {\n",
       "        vertical-align: middle;\n",
       "    }\n",
       "\n",
       "    .dataframe tbody tr th {\n",
       "        vertical-align: top;\n",
       "    }\n",
       "\n",
       "    .dataframe thead th {\n",
       "        text-align: right;\n",
       "    }\n",
       "</style>\n",
       "<table border=\"1\" class=\"dataframe\">\n",
       "  <thead>\n",
       "    <tr style=\"text-align: right;\">\n",
       "      <th></th>\n",
       "      <th>Title</th>\n",
       "      <th>OldVotes</th>\n",
       "    </tr>\n",
       "  </thead>\n",
       "  <tbody>\n",
       "    <tr>\n",
       "      <th>0</th>\n",
       "      <td>Which European cities have bike rental station...</td>\n",
       "      <td>39</td>\n",
       "    </tr>\n",
       "    <tr>\n",
       "      <th>1</th>\n",
       "      <td>Why do hostels require you to 'rent' bedding?</td>\n",
       "      <td>28</td>\n",
       "    </tr>\n",
       "    <tr>\n",
       "      <th>2</th>\n",
       "      <td>What to do with your valuables on a low-cost h...</td>\n",
       "      <td>25</td>\n",
       "    </tr>\n",
       "    <tr>\n",
       "      <th>3</th>\n",
       "      <td>Can't check-in to a hotel because I am 18</td>\n",
       "      <td>25</td>\n",
       "    </tr>\n",
       "    <tr>\n",
       "      <th>4</th>\n",
       "      <td>What are some good ways to find things to expl...</td>\n",
       "      <td>24</td>\n",
       "    </tr>\n",
       "    <tr>\n",
       "      <th>5</th>\n",
       "      <td>Alarm Clock without Noise? To wake up in commo...</td>\n",
       "      <td>24</td>\n",
       "    </tr>\n",
       "    <tr>\n",
       "      <th>6</th>\n",
       "      <td>Should I avoid overnight flights from Dubai to...</td>\n",
       "      <td>23</td>\n",
       "    </tr>\n",
       "    <tr>\n",
       "      <th>7</th>\n",
       "      <td>Can a visitor who is \"of age\" in their country...</td>\n",
       "      <td>23</td>\n",
       "    </tr>\n",
       "    <tr>\n",
       "      <th>8</th>\n",
       "      <td>What is the business model of commercial free ...</td>\n",
       "      <td>23</td>\n",
       "    </tr>\n",
       "    <tr>\n",
       "      <th>9</th>\n",
       "      <td>Carrying medicines internationally for a friend</td>\n",
       "      <td>23</td>\n",
       "    </tr>\n",
       "    <tr>\n",
       "      <th>10</th>\n",
       "      <td>What times of the year are best for visiting F...</td>\n",
       "      <td>23</td>\n",
       "    </tr>\n",
       "    <tr>\n",
       "      <th>11</th>\n",
       "      <td>Getting work on a cruise ship in order to travel</td>\n",
       "      <td>23</td>\n",
       "    </tr>\n",
       "  </tbody>\n",
       "</table>\n",
       "</div>"
      ],
      "text/plain": [
       "                                                Title  OldVotes\n",
       "0   Which European cities have bike rental station...        39\n",
       "1       Why do hostels require you to 'rent' bedding?        28\n",
       "2   What to do with your valuables on a low-cost h...        25\n",
       "3           Can't check-in to a hotel because I am 18        25\n",
       "4   What are some good ways to find things to expl...        24\n",
       "5   Alarm Clock without Noise? To wake up in commo...        24\n",
       "6   Should I avoid overnight flights from Dubai to...        23\n",
       "7   Can a visitor who is \"of age\" in their country...        23\n",
       "8   What is the business model of commercial free ...        23\n",
       "9     Carrying medicines internationally for a friend        23\n",
       "10  What times of the year are best for visiting F...        23\n",
       "11   Getting work on a cruise ship in order to travel        23"
      ]
     },
     "execution_count": 65,
     "metadata": {},
     "output_type": "execute_result"
    }
   ],
   "source": [
    "df7"
   ]
  },
  {
   "cell_type": "markdown",
   "metadata": {},
   "source": [
    "### Dla pewności sprawdźmy typy danych zwracanych w ramce wynikowej. "
   ]
  },
  {
   "cell_type": "code",
   "execution_count": 66,
   "metadata": {},
   "outputs": [
    {
     "data": {
      "text/plain": [
       "Title       object\n",
       "OldVotes     int64\n",
       "dtype: object"
      ]
     },
     "execution_count": 66,
     "metadata": {},
     "output_type": "execute_result"
    }
   ],
   "source": [
    "df7.dtypes"
   ]
  },
  {
   "cell_type": "code",
   "execution_count": 67,
   "metadata": {},
   "outputs": [
    {
     "data": {
      "text/plain": [
       "Title       object\n",
       "OldVotes     int64\n",
       "dtype: object"
      ]
     },
     "execution_count": 67,
     "metadata": {},
     "output_type": "execute_result"
    }
   ],
   "source": [
    "df_sql_7.dtypes"
   ]
  },
  {
   "cell_type": "code",
   "execution_count": 69,
   "metadata": {},
   "outputs": [],
   "source": [
    "# Tutaj wszystko się zgadza. Zatem wszelkie nieprawidłowości muszą wynikać z różnych permutacji wierszy\n",
    "# o takich samych wartościach zmiennej, względem której sortowaliśmy."
   ]
  },
  {
   "cell_type": "markdown",
   "metadata": {},
   "source": [
    "# Drobna uwaga :)"
   ]
  },
  {
   "cell_type": "markdown",
   "metadata": {},
   "source": [
    "Mam nadzieję, że tego typu ocena poprawności wyników jest wystarczająca. Nawiązując do naszej rozmowy postanowiłam po prostu zakomentować wszelkie nierprawidłowości i mam nadzieję, że udało mi się to zrobić w sposób wyczerpujący i tym samym przekonujący. \n",
    "Wszelkie adnotacje pt. 'Jaki rezultat mamy osiągnąć' robiłam z myślą o opisie dla laików, natomiast kolejne kroki rozwiązań poszczególnych zadań są umieszczone w komentarzach wewnątrz kodu. \n",
    "Zgodnie z treścią w przypadku każdego zadania, upewniłam się, że zwracane wyniki są ze sobą tożsame (ewentualnie z dokładnością do permutacji wierszy wynikowych ramek danych).\n",
    "Sprawdziłam też, że w każdym przypadku wynik jest klasy DataFrame a nie Series.\n",
    "Wewnątrz dokumentu pozostawiam oryginalne ścieżki do plików, które zczytywałam na potrzeby realizacji projektu. \n",
    "P.S. Mam nadzieję, że tym razem zrehabilitowałam się za brak komentarzy w pracy domowej nr 1 :)."
   ]
  }
 ],
 "metadata": {
  "kernelspec": {
   "display_name": "Python 3",
   "language": "python",
   "name": "python3"
  },
  "language_info": {
   "codemirror_mode": {
    "name": "ipython",
    "version": 3
   },
   "file_extension": ".py",
   "mimetype": "text/x-python",
   "name": "python",
   "nbconvert_exporter": "python",
   "pygments_lexer": "ipython3",
   "version": "3.7.1"
  }
 },
 "nbformat": 4,
 "nbformat_minor": 2
}
