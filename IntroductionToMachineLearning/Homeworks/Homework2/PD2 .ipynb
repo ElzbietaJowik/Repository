{
 "cells": [
  {
   "cell_type": "markdown",
   "metadata": {},
   "source": [
    "# Part I:  Encoding"
   ]
  },
  {
   "cell_type": "code",
   "execution_count": 1,
   "metadata": {},
   "outputs": [],
   "source": [
    "# Packages\n",
    "import pandas as pd \n",
    "import numpy as np\n",
    "import sklearn\n",
    "import seaborn as sns\n",
    "import matplotlib.pyplot as plt\n",
    "import sys\n",
    "import warnings \n",
    "import category_encoders as ce\n",
    "import math\n",
    "warnings.filterwarnings('ignore')"
   ]
  },
  {
   "cell_type": "code",
   "execution_count": 2,
   "metadata": {},
   "outputs": [],
   "source": [
    "# Loading data\n",
    "np.random.seed(123)\n",
    "\n",
    "data = pd.read_csv('allegro-api-transactions.csv')\n",
    "df = pd.DataFrame(data)"
   ]
  },
  {
   "cell_type": "code",
   "execution_count": 3,
   "metadata": {},
   "outputs": [
    {
     "name": "stdout",
     "output_type": "stream",
     "text": [
      "<class 'pandas.core.frame.DataFrame'>\n",
      "RangeIndex: 420020 entries, 0 to 420019\n",
      "Data columns (total 14 columns):\n",
      "lp                        420020 non-null int64\n",
      "date                      420020 non-null object\n",
      "item_id                   420020 non-null int64\n",
      "categories                420020 non-null object\n",
      "pay_option_on_delivery    420020 non-null int64\n",
      "pay_option_transfer       420020 non-null int64\n",
      "seller                    420020 non-null object\n",
      "price                     420020 non-null float64\n",
      "it_is_allegro_standard    420020 non-null int64\n",
      "it_quantity               420020 non-null int64\n",
      "it_is_brand_zone          420020 non-null int64\n",
      "it_seller_rating          420020 non-null int64\n",
      "it_location               420020 non-null object\n",
      "main_category             420020 non-null object\n",
      "dtypes: float64(1), int64(8), object(5)\n",
      "memory usage: 44.9+ MB\n"
     ]
    }
   ],
   "source": [
    "df.info()"
   ]
  },
  {
   "cell_type": "code",
   "execution_count": 4,
   "metadata": {},
   "outputs": [
    {
     "data": {
      "text/plain": [
       "lp                        420020\n",
       "date                       38953\n",
       "item_id                   332519\n",
       "categories                  9020\n",
       "pay_option_on_delivery         2\n",
       "pay_option_transfer            2\n",
       "seller                     51064\n",
       "price                       9722\n",
       "it_is_allegro_standard         2\n",
       "it_quantity                 7305\n",
       "it_is_brand_zone               2\n",
       "it_seller_rating           46093\n",
       "it_location                10056\n",
       "main_category                 27\n",
       "dtype: int64"
      ]
     },
     "execution_count": 4,
     "metadata": {},
     "output_type": "execute_result"
    }
   ],
   "source": [
    "# The cardinalities of the unique values of attributes check.\n",
    "df.nunique()"
   ]
  },
  {
   "cell_type": "markdown",
   "metadata": {},
   "source": [
    "# 1. Target-encoding for it-location variable"
   ]
  },
  {
   "cell_type": "markdown",
   "metadata": {},
   "source": [
    "### it_location variable"
   ]
  },
  {
   "cell_type": "code",
   "execution_count": 5,
   "metadata": {},
   "outputs": [
    {
     "data": {
      "text/plain": [
       "array(['Warszawa', 'Leszno', 'Wola Krzysztoporska', ..., 'Tarnawa-Góra',\n",
       "       'Zbytów', 'Dąbrowa k/Poznania'], dtype=object)"
      ]
     },
     "execution_count": 5,
     "metadata": {},
     "output_type": "execute_result"
    }
   ],
   "source": [
    "df.it_location.unique()"
   ]
  },
  {
   "cell_type": "code",
   "execution_count": 6,
   "metadata": {},
   "outputs": [
    {
     "data": {
      "text/plain": [
       "7619"
      ]
     },
     "execution_count": 6,
     "metadata": {},
     "output_type": "execute_result"
    }
   ],
   "source": [
    "# The it_location column has non-standard string that require normalization when training the model,\n",
    "# for homework purposes, I will limit such activities to a uniform size of letters and getting rid of whitespaces.\n",
    "df.iloc[:, 12] = df.iloc[:, 12].str.lower()\n",
    "df.iloc[:, 12] = df.iloc[:, 12].str.strip()\n",
    "df.iloc[:, 12].nunique() # "
   ]
  },
  {
   "cell_type": "code",
   "execution_count": 7,
   "metadata": {},
   "outputs": [],
   "source": [
    "# In the case of regression, the interpretation of target encoding is the assignment of the expected value \n",
    "# of the target variable (price) provided a specific class.\n",
    "# Labels are therefore directly linked to the target variable."
   ]
  },
  {
   "cell_type": "code",
   "execution_count": 8,
   "metadata": {},
   "outputs": [
    {
     "name": "stdout",
     "output_type": "stream",
     "text": [
      "it_location\n",
      "#                                    42.000000\n",
      "&                                    14.000000\n",
      "&&&                                  28.400000\n",
      "&&&&&                               139.000000\n",
      "(                                    45.000000\n",
      "                                       ...    \n",
      "żywiec- bielsko-katowice-gliwice    860.000000\n",
      "żórawina                             31.934615\n",
      "żółkiewka                           118.130000\n",
      "żędowice                             89.434146\n",
      "↑╔╩═╬╤╤╝←                             2.070000\n",
      "Name: price, Length: 7619, dtype: float64\n"
     ]
    }
   ],
   "source": [
    "mean_encoding = df.groupby('it_location')['price'].mean()\n",
    "print(mean_encoding)"
   ]
  },
  {
   "cell_type": "code",
   "execution_count": 9,
   "metadata": {},
   "outputs": [
    {
     "data": {
      "text/html": [
       "<div>\n",
       "<style scoped>\n",
       "    .dataframe tbody tr th:only-of-type {\n",
       "        vertical-align: middle;\n",
       "    }\n",
       "\n",
       "    .dataframe tbody tr th {\n",
       "        vertical-align: top;\n",
       "    }\n",
       "\n",
       "    .dataframe thead th {\n",
       "        text-align: right;\n",
       "    }\n",
       "</style>\n",
       "<table border=\"1\" class=\"dataframe\">\n",
       "  <thead>\n",
       "    <tr style=\"text-align: right;\">\n",
       "      <th></th>\n",
       "      <th>it_location</th>\n",
       "      <th>price_mean_enc</th>\n",
       "    </tr>\n",
       "  </thead>\n",
       "  <tbody>\n",
       "    <tr>\n",
       "      <th>0</th>\n",
       "      <td>warszawa</td>\n",
       "      <td>84.128595</td>\n",
       "    </tr>\n",
       "    <tr>\n",
       "      <th>1</th>\n",
       "      <td>warszawa</td>\n",
       "      <td>84.128595</td>\n",
       "    </tr>\n",
       "    <tr>\n",
       "      <th>2</th>\n",
       "      <td>leszno</td>\n",
       "      <td>65.180279</td>\n",
       "    </tr>\n",
       "    <tr>\n",
       "      <th>3</th>\n",
       "      <td>wola krzysztoporska</td>\n",
       "      <td>35.433365</td>\n",
       "    </tr>\n",
       "    <tr>\n",
       "      <th>4</th>\n",
       "      <td>białystok</td>\n",
       "      <td>73.673205</td>\n",
       "    </tr>\n",
       "    <tr>\n",
       "      <th>5</th>\n",
       "      <td>gąbin</td>\n",
       "      <td>22.364118</td>\n",
       "    </tr>\n",
       "    <tr>\n",
       "      <th>6</th>\n",
       "      <td>gąbin</td>\n",
       "      <td>22.364118</td>\n",
       "    </tr>\n",
       "    <tr>\n",
       "      <th>7</th>\n",
       "      <td>legionowo</td>\n",
       "      <td>61.505325</td>\n",
       "    </tr>\n",
       "    <tr>\n",
       "      <th>8</th>\n",
       "      <td>zachodniopomorskie</td>\n",
       "      <td>46.491014</td>\n",
       "    </tr>\n",
       "    <tr>\n",
       "      <th>9</th>\n",
       "      <td>warszawa</td>\n",
       "      <td>84.128595</td>\n",
       "    </tr>\n",
       "  </tbody>\n",
       "</table>\n",
       "</div>"
      ],
      "text/plain": [
       "           it_location  price_mean_enc\n",
       "0             warszawa       84.128595\n",
       "1             warszawa       84.128595\n",
       "2               leszno       65.180279\n",
       "3  wola krzysztoporska       35.433365\n",
       "4            białystok       73.673205\n",
       "5                gąbin       22.364118\n",
       "6                gąbin       22.364118\n",
       "7            legionowo       61.505325\n",
       "8   zachodniopomorskie       46.491014\n",
       "9             warszawa       84.128595"
      ]
     },
     "execution_count": 9,
     "metadata": {},
     "output_type": "execute_result"
    }
   ],
   "source": [
    "df.loc[:, 'price_mean_enc'] = df['it_location'].map(mean_encoding)\n",
    "df.iloc[0:10, [12, 14]]"
   ]
  },
  {
   "cell_type": "markdown",
   "metadata": {},
   "source": [
    "* The problem with one-hot encoding is that it greatly increases the dimensionality of the training data (by adding a new feature for each unique category in the original dataset). This often leads to poorer model performance due to the fact, that it is harder for machine learning algorithms to learn from data which has more dimensions. The advantages of the mean encoding are that **it does not affect the volume of data** and helps in faster learning. This can be a very nice way of dealing with a lot of categories.  \n",
    "\n",
    "* However because these encoders use the target value, you we to be careful when doing cross-validation to encode during each step of cross-validation, rather than just encode. Target Encoding is notorious for over-fitting, so the regularization with cross-validation or some other approach is a must on most occasions.   \n",
    "In my opinion, if there are only a few examples per category, this technique is not going to be particularly useful. \n"
   ]
  },
  {
   "cell_type": "markdown",
   "metadata": {},
   "source": [
    "# 2. Encoding for main_category variable\n",
    "### main_category variable"
   ]
  },
  {
   "cell_type": "code",
   "execution_count": 10,
   "metadata": {},
   "outputs": [
    {
     "data": {
      "text/plain": [
       "array(['Komputery', 'Odzież, Obuwie, Dodatki', 'Dom i Ogród',\n",
       "       'Książki i Komiksy', 'Biżuteria i Zegarki', 'RTV i AGD',\n",
       "       'Motoryzacja', 'Dla Dzieci', 'Uroda', 'Telefony i Akcesoria',\n",
       "       'Sport i Turystyka', 'Delikatesy', 'Kolekcje', 'Gry', 'Rękodzieło',\n",
       "       'Zdrowie', 'Przemysł', 'Filmy', 'Fotografia', 'Biuro i Reklama',\n",
       "       'Instrumenty', 'Muzyka', 'Konsole i automaty',\n",
       "       'Sprzęt estradowy, studyjny i DJ-ski', 'Antyki i Sztuka', 'Bilety',\n",
       "       'Nieruchomości'], dtype=object)"
      ]
     },
     "execution_count": 10,
     "metadata": {},
     "output_type": "execute_result"
    }
   ],
   "source": [
    "df.main_category.unique()\n",
    "# For this variable all categories make sense and there's no cleaning need. "
   ]
  },
  {
   "cell_type": "code",
   "execution_count": 11,
   "metadata": {},
   "outputs": [
    {
     "data": {
      "text/plain": [
       "27"
      ]
     },
     "execution_count": 11,
     "metadata": {},
     "output_type": "execute_result"
    }
   ],
   "source": [
    "df.main_category.nunique()"
   ]
  },
  {
   "cell_type": "markdown",
   "metadata": {},
   "source": [
    "## 2.1. One-hot encoding"
   ]
  },
  {
   "cell_type": "code",
   "execution_count": 12,
   "metadata": {},
   "outputs": [],
   "source": [
    "# In this method, we map each category to vector that contains 1 and 0 denoting the presence or absence \n",
    "# of the feature. The number of vectors depends on the number of categories for features. \n",
    "# This allows us to encode the categorical information numerically, without loss of information, \n",
    "# but ends up adding a lot of columns when the original categorical feature has many unique categories.\n",
    "# The values in the dataframe below are mostly 0s because the data we generated has so many categories.  \n",
    "# One Hot Encoding allows us to find the effect for each level, and generally works pretty well for linear models,\n",
    "# but because only a small fraction of the data happens to belong to any one level (if there are a lot of levels),\n",
    "# it is hard for tree-based models to split on them"
   ]
  },
  {
   "cell_type": "code",
   "execution_count": 13,
   "metadata": {},
   "outputs": [
    {
     "data": {
      "text/html": [
       "<div>\n",
       "<style scoped>\n",
       "    .dataframe tbody tr th:only-of-type {\n",
       "        vertical-align: middle;\n",
       "    }\n",
       "\n",
       "    .dataframe tbody tr th {\n",
       "        vertical-align: top;\n",
       "    }\n",
       "\n",
       "    .dataframe thead th {\n",
       "        text-align: right;\n",
       "    }\n",
       "</style>\n",
       "<table border=\"1\" class=\"dataframe\">\n",
       "  <thead>\n",
       "    <tr style=\"text-align: right;\">\n",
       "      <th></th>\n",
       "      <th>main_category_Antyki i Sztuka</th>\n",
       "      <th>main_category_Bilety</th>\n",
       "      <th>main_category_Biuro i Reklama</th>\n",
       "      <th>main_category_Biżuteria i Zegarki</th>\n",
       "      <th>main_category_Delikatesy</th>\n",
       "      <th>main_category_Dla Dzieci</th>\n",
       "      <th>main_category_Dom i Ogród</th>\n",
       "      <th>main_category_Filmy</th>\n",
       "      <th>main_category_Fotografia</th>\n",
       "      <th>main_category_Gry</th>\n",
       "      <th>...</th>\n",
       "      <th>main_category_Nieruchomości</th>\n",
       "      <th>main_category_Odzież, Obuwie, Dodatki</th>\n",
       "      <th>main_category_Przemysł</th>\n",
       "      <th>main_category_RTV i AGD</th>\n",
       "      <th>main_category_Rękodzieło</th>\n",
       "      <th>main_category_Sport i Turystyka</th>\n",
       "      <th>main_category_Sprzęt estradowy, studyjny i DJ-ski</th>\n",
       "      <th>main_category_Telefony i Akcesoria</th>\n",
       "      <th>main_category_Uroda</th>\n",
       "      <th>main_category_Zdrowie</th>\n",
       "    </tr>\n",
       "  </thead>\n",
       "  <tbody>\n",
       "    <tr>\n",
       "      <th>0</th>\n",
       "      <td>0</td>\n",
       "      <td>0</td>\n",
       "      <td>0</td>\n",
       "      <td>0</td>\n",
       "      <td>0</td>\n",
       "      <td>0</td>\n",
       "      <td>0</td>\n",
       "      <td>0</td>\n",
       "      <td>0</td>\n",
       "      <td>0</td>\n",
       "      <td>...</td>\n",
       "      <td>0</td>\n",
       "      <td>0</td>\n",
       "      <td>0</td>\n",
       "      <td>0</td>\n",
       "      <td>0</td>\n",
       "      <td>0</td>\n",
       "      <td>0</td>\n",
       "      <td>0</td>\n",
       "      <td>0</td>\n",
       "      <td>0</td>\n",
       "    </tr>\n",
       "    <tr>\n",
       "      <th>1</th>\n",
       "      <td>0</td>\n",
       "      <td>0</td>\n",
       "      <td>0</td>\n",
       "      <td>0</td>\n",
       "      <td>0</td>\n",
       "      <td>0</td>\n",
       "      <td>0</td>\n",
       "      <td>0</td>\n",
       "      <td>0</td>\n",
       "      <td>0</td>\n",
       "      <td>...</td>\n",
       "      <td>0</td>\n",
       "      <td>1</td>\n",
       "      <td>0</td>\n",
       "      <td>0</td>\n",
       "      <td>0</td>\n",
       "      <td>0</td>\n",
       "      <td>0</td>\n",
       "      <td>0</td>\n",
       "      <td>0</td>\n",
       "      <td>0</td>\n",
       "    </tr>\n",
       "    <tr>\n",
       "      <th>2</th>\n",
       "      <td>0</td>\n",
       "      <td>0</td>\n",
       "      <td>0</td>\n",
       "      <td>0</td>\n",
       "      <td>0</td>\n",
       "      <td>0</td>\n",
       "      <td>1</td>\n",
       "      <td>0</td>\n",
       "      <td>0</td>\n",
       "      <td>0</td>\n",
       "      <td>...</td>\n",
       "      <td>0</td>\n",
       "      <td>0</td>\n",
       "      <td>0</td>\n",
       "      <td>0</td>\n",
       "      <td>0</td>\n",
       "      <td>0</td>\n",
       "      <td>0</td>\n",
       "      <td>0</td>\n",
       "      <td>0</td>\n",
       "      <td>0</td>\n",
       "    </tr>\n",
       "    <tr>\n",
       "      <th>3</th>\n",
       "      <td>0</td>\n",
       "      <td>0</td>\n",
       "      <td>0</td>\n",
       "      <td>0</td>\n",
       "      <td>0</td>\n",
       "      <td>0</td>\n",
       "      <td>0</td>\n",
       "      <td>0</td>\n",
       "      <td>0</td>\n",
       "      <td>0</td>\n",
       "      <td>...</td>\n",
       "      <td>0</td>\n",
       "      <td>0</td>\n",
       "      <td>0</td>\n",
       "      <td>0</td>\n",
       "      <td>0</td>\n",
       "      <td>0</td>\n",
       "      <td>0</td>\n",
       "      <td>0</td>\n",
       "      <td>0</td>\n",
       "      <td>0</td>\n",
       "    </tr>\n",
       "    <tr>\n",
       "      <th>4</th>\n",
       "      <td>0</td>\n",
       "      <td>0</td>\n",
       "      <td>0</td>\n",
       "      <td>0</td>\n",
       "      <td>0</td>\n",
       "      <td>0</td>\n",
       "      <td>0</td>\n",
       "      <td>0</td>\n",
       "      <td>0</td>\n",
       "      <td>0</td>\n",
       "      <td>...</td>\n",
       "      <td>0</td>\n",
       "      <td>1</td>\n",
       "      <td>0</td>\n",
       "      <td>0</td>\n",
       "      <td>0</td>\n",
       "      <td>0</td>\n",
       "      <td>0</td>\n",
       "      <td>0</td>\n",
       "      <td>0</td>\n",
       "      <td>0</td>\n",
       "    </tr>\n",
       "    <tr>\n",
       "      <th>5</th>\n",
       "      <td>0</td>\n",
       "      <td>0</td>\n",
       "      <td>0</td>\n",
       "      <td>0</td>\n",
       "      <td>0</td>\n",
       "      <td>0</td>\n",
       "      <td>0</td>\n",
       "      <td>0</td>\n",
       "      <td>0</td>\n",
       "      <td>0</td>\n",
       "      <td>...</td>\n",
       "      <td>0</td>\n",
       "      <td>1</td>\n",
       "      <td>0</td>\n",
       "      <td>0</td>\n",
       "      <td>0</td>\n",
       "      <td>0</td>\n",
       "      <td>0</td>\n",
       "      <td>0</td>\n",
       "      <td>0</td>\n",
       "      <td>0</td>\n",
       "    </tr>\n",
       "    <tr>\n",
       "      <th>6</th>\n",
       "      <td>0</td>\n",
       "      <td>0</td>\n",
       "      <td>0</td>\n",
       "      <td>0</td>\n",
       "      <td>0</td>\n",
       "      <td>0</td>\n",
       "      <td>0</td>\n",
       "      <td>0</td>\n",
       "      <td>0</td>\n",
       "      <td>0</td>\n",
       "      <td>...</td>\n",
       "      <td>0</td>\n",
       "      <td>1</td>\n",
       "      <td>0</td>\n",
       "      <td>0</td>\n",
       "      <td>0</td>\n",
       "      <td>0</td>\n",
       "      <td>0</td>\n",
       "      <td>0</td>\n",
       "      <td>0</td>\n",
       "      <td>0</td>\n",
       "    </tr>\n",
       "    <tr>\n",
       "      <th>7</th>\n",
       "      <td>0</td>\n",
       "      <td>0</td>\n",
       "      <td>0</td>\n",
       "      <td>1</td>\n",
       "      <td>0</td>\n",
       "      <td>0</td>\n",
       "      <td>0</td>\n",
       "      <td>0</td>\n",
       "      <td>0</td>\n",
       "      <td>0</td>\n",
       "      <td>...</td>\n",
       "      <td>0</td>\n",
       "      <td>0</td>\n",
       "      <td>0</td>\n",
       "      <td>0</td>\n",
       "      <td>0</td>\n",
       "      <td>0</td>\n",
       "      <td>0</td>\n",
       "      <td>0</td>\n",
       "      <td>0</td>\n",
       "      <td>0</td>\n",
       "    </tr>\n",
       "    <tr>\n",
       "      <th>8</th>\n",
       "      <td>0</td>\n",
       "      <td>0</td>\n",
       "      <td>0</td>\n",
       "      <td>0</td>\n",
       "      <td>0</td>\n",
       "      <td>0</td>\n",
       "      <td>0</td>\n",
       "      <td>0</td>\n",
       "      <td>0</td>\n",
       "      <td>0</td>\n",
       "      <td>...</td>\n",
       "      <td>0</td>\n",
       "      <td>0</td>\n",
       "      <td>0</td>\n",
       "      <td>1</td>\n",
       "      <td>0</td>\n",
       "      <td>0</td>\n",
       "      <td>0</td>\n",
       "      <td>0</td>\n",
       "      <td>0</td>\n",
       "      <td>0</td>\n",
       "    </tr>\n",
       "    <tr>\n",
       "      <th>9</th>\n",
       "      <td>0</td>\n",
       "      <td>0</td>\n",
       "      <td>0</td>\n",
       "      <td>0</td>\n",
       "      <td>0</td>\n",
       "      <td>0</td>\n",
       "      <td>0</td>\n",
       "      <td>0</td>\n",
       "      <td>0</td>\n",
       "      <td>0</td>\n",
       "      <td>...</td>\n",
       "      <td>0</td>\n",
       "      <td>0</td>\n",
       "      <td>0</td>\n",
       "      <td>1</td>\n",
       "      <td>0</td>\n",
       "      <td>0</td>\n",
       "      <td>0</td>\n",
       "      <td>0</td>\n",
       "      <td>0</td>\n",
       "      <td>0</td>\n",
       "    </tr>\n",
       "  </tbody>\n",
       "</table>\n",
       "<p>10 rows × 27 columns</p>\n",
       "</div>"
      ],
      "text/plain": [
       "   main_category_Antyki i Sztuka  main_category_Bilety  \\\n",
       "0                              0                     0   \n",
       "1                              0                     0   \n",
       "2                              0                     0   \n",
       "3                              0                     0   \n",
       "4                              0                     0   \n",
       "5                              0                     0   \n",
       "6                              0                     0   \n",
       "7                              0                     0   \n",
       "8                              0                     0   \n",
       "9                              0                     0   \n",
       "\n",
       "   main_category_Biuro i Reklama  main_category_Biżuteria i Zegarki  \\\n",
       "0                              0                                  0   \n",
       "1                              0                                  0   \n",
       "2                              0                                  0   \n",
       "3                              0                                  0   \n",
       "4                              0                                  0   \n",
       "5                              0                                  0   \n",
       "6                              0                                  0   \n",
       "7                              0                                  1   \n",
       "8                              0                                  0   \n",
       "9                              0                                  0   \n",
       "\n",
       "   main_category_Delikatesy  main_category_Dla Dzieci  \\\n",
       "0                         0                         0   \n",
       "1                         0                         0   \n",
       "2                         0                         0   \n",
       "3                         0                         0   \n",
       "4                         0                         0   \n",
       "5                         0                         0   \n",
       "6                         0                         0   \n",
       "7                         0                         0   \n",
       "8                         0                         0   \n",
       "9                         0                         0   \n",
       "\n",
       "   main_category_Dom i Ogród  main_category_Filmy  main_category_Fotografia  \\\n",
       "0                          0                    0                         0   \n",
       "1                          0                    0                         0   \n",
       "2                          1                    0                         0   \n",
       "3                          0                    0                         0   \n",
       "4                          0                    0                         0   \n",
       "5                          0                    0                         0   \n",
       "6                          0                    0                         0   \n",
       "7                          0                    0                         0   \n",
       "8                          0                    0                         0   \n",
       "9                          0                    0                         0   \n",
       "\n",
       "   main_category_Gry  ...  main_category_Nieruchomości  \\\n",
       "0                  0  ...                            0   \n",
       "1                  0  ...                            0   \n",
       "2                  0  ...                            0   \n",
       "3                  0  ...                            0   \n",
       "4                  0  ...                            0   \n",
       "5                  0  ...                            0   \n",
       "6                  0  ...                            0   \n",
       "7                  0  ...                            0   \n",
       "8                  0  ...                            0   \n",
       "9                  0  ...                            0   \n",
       "\n",
       "   main_category_Odzież, Obuwie, Dodatki  main_category_Przemysł  \\\n",
       "0                                      0                       0   \n",
       "1                                      1                       0   \n",
       "2                                      0                       0   \n",
       "3                                      0                       0   \n",
       "4                                      1                       0   \n",
       "5                                      1                       0   \n",
       "6                                      1                       0   \n",
       "7                                      0                       0   \n",
       "8                                      0                       0   \n",
       "9                                      0                       0   \n",
       "\n",
       "   main_category_RTV i AGD  main_category_Rękodzieło  \\\n",
       "0                        0                         0   \n",
       "1                        0                         0   \n",
       "2                        0                         0   \n",
       "3                        0                         0   \n",
       "4                        0                         0   \n",
       "5                        0                         0   \n",
       "6                        0                         0   \n",
       "7                        0                         0   \n",
       "8                        1                         0   \n",
       "9                        1                         0   \n",
       "\n",
       "   main_category_Sport i Turystyka  \\\n",
       "0                                0   \n",
       "1                                0   \n",
       "2                                0   \n",
       "3                                0   \n",
       "4                                0   \n",
       "5                                0   \n",
       "6                                0   \n",
       "7                                0   \n",
       "8                                0   \n",
       "9                                0   \n",
       "\n",
       "   main_category_Sprzęt estradowy, studyjny i DJ-ski  \\\n",
       "0                                                  0   \n",
       "1                                                  0   \n",
       "2                                                  0   \n",
       "3                                                  0   \n",
       "4                                                  0   \n",
       "5                                                  0   \n",
       "6                                                  0   \n",
       "7                                                  0   \n",
       "8                                                  0   \n",
       "9                                                  0   \n",
       "\n",
       "   main_category_Telefony i Akcesoria  main_category_Uroda  \\\n",
       "0                                   0                    0   \n",
       "1                                   0                    0   \n",
       "2                                   0                    0   \n",
       "3                                   0                    0   \n",
       "4                                   0                    0   \n",
       "5                                   0                    0   \n",
       "6                                   0                    0   \n",
       "7                                   0                    0   \n",
       "8                                   0                    0   \n",
       "9                                   0                    0   \n",
       "\n",
       "   main_category_Zdrowie  \n",
       "0                      0  \n",
       "1                      0  \n",
       "2                      0  \n",
       "3                      0  \n",
       "4                      0  \n",
       "5                      0  \n",
       "6                      0  \n",
       "7                      0  \n",
       "8                      0  \n",
       "9                      0  \n",
       "\n",
       "[10 rows x 27 columns]"
      ]
     },
     "execution_count": 13,
     "metadata": {},
     "output_type": "execute_result"
    }
   ],
   "source": [
    "df_OHE = pd.get_dummies(df, prefix = [\"main_category\"], columns = ['main_category'])\n",
    "df_OHE.iloc[0:10, 14:]"
   ]
  },
  {
   "cell_type": "markdown",
   "metadata": {},
   "source": [
    "## 2.2. James Stein Encoding"
   ]
  },
  {
   "cell_type": "code",
   "execution_count": 56,
   "metadata": {},
   "outputs": [],
   "source": [
    "# For feature value i, James-Stein estimator returns a weighted average of:\n",
    "# The mean target value for the observed feature value i.\n",
    "# The mean target value (regardless of the feature value).\n",
    "\n",
    "# Just like target encoding, it doesn't increase the frame size.\n",
    "# Works well for the data under consideration."
   ]
  },
  {
   "cell_type": "code",
   "execution_count": 57,
   "metadata": {},
   "outputs": [
    {
     "data": {
      "text/plain": [
       "0         101.735793\n",
       "1          75.894257\n",
       "2          73.179117\n",
       "3          25.346202\n",
       "4          75.894257\n",
       "             ...    \n",
       "420015     97.729828\n",
       "420016     28.654868\n",
       "420017     75.894257\n",
       "420018     71.814470\n",
       "420019     87.662354\n",
       "Name: main_category, Length: 420020, dtype: float64"
      ]
     },
     "execution_count": 57,
     "metadata": {},
     "output_type": "execute_result"
    }
   ],
   "source": [
    "js_encoder = ce.james_stein.JamesSteinEncoder(df, cols='main_category')\n",
    "encoded = js.fit_transform(df, df.price)\n",
    "encoded.main_category"
   ]
  },
  {
   "cell_type": "markdown",
   "metadata": {},
   "source": [
    "## 2.3. Helmert Encoding"
   ]
  },
  {
   "cell_type": "code",
   "execution_count": 20,
   "metadata": {},
   "outputs": [],
   "source": [
    "# It is said that Helmert coding is a third commonly used type of categorical encoding along with OHE \n",
    "# and Sum Encoding. \n",
    "# In this encoding, the mean of the dependent variable for a level is compared to the mean of depending variables \n",
    "# in all previous levels. \n",
    "\n",
    "# This type of encoding seems to be useful in certain situations where levels of the categorical variable \n",
    "# are ordered, say, from lowest to highest, or from smallest to largest."
   ]
  },
  {
   "cell_type": "code",
   "execution_count": 21,
   "metadata": {},
   "outputs": [],
   "source": [
    "helmert_encoder = ce.HelmertEncoder(cols = ['main_category'], drop_invariant=True)\n",
    "encoded = helmert_encoder.fit_transform(df['main_category'])\n",
    "df_H = pd.concat([df, encoded], axis = 1)"
   ]
  },
  {
   "cell_type": "code",
   "execution_count": 22,
   "metadata": {},
   "outputs": [
    {
     "data": {
      "text/html": [
       "<div>\n",
       "<style scoped>\n",
       "    .dataframe tbody tr th:only-of-type {\n",
       "        vertical-align: middle;\n",
       "    }\n",
       "\n",
       "    .dataframe tbody tr th {\n",
       "        vertical-align: top;\n",
       "    }\n",
       "\n",
       "    .dataframe thead th {\n",
       "        text-align: right;\n",
       "    }\n",
       "</style>\n",
       "<table border=\"1\" class=\"dataframe\">\n",
       "  <thead>\n",
       "    <tr style=\"text-align: right;\">\n",
       "      <th></th>\n",
       "      <th>main_category_0</th>\n",
       "      <th>main_category_1</th>\n",
       "      <th>main_category_2</th>\n",
       "      <th>main_category_3</th>\n",
       "      <th>main_category_4</th>\n",
       "      <th>main_category_5</th>\n",
       "      <th>main_category_6</th>\n",
       "      <th>main_category_7</th>\n",
       "      <th>main_category_8</th>\n",
       "      <th>main_category_9</th>\n",
       "      <th>...</th>\n",
       "      <th>main_category_16</th>\n",
       "      <th>main_category_17</th>\n",
       "      <th>main_category_18</th>\n",
       "      <th>main_category_19</th>\n",
       "      <th>main_category_20</th>\n",
       "      <th>main_category_21</th>\n",
       "      <th>main_category_22</th>\n",
       "      <th>main_category_23</th>\n",
       "      <th>main_category_24</th>\n",
       "      <th>main_category_25</th>\n",
       "    </tr>\n",
       "  </thead>\n",
       "  <tbody>\n",
       "    <tr>\n",
       "      <th>0</th>\n",
       "      <td>-1.0</td>\n",
       "      <td>-1.0</td>\n",
       "      <td>-1.0</td>\n",
       "      <td>-1.0</td>\n",
       "      <td>-1.0</td>\n",
       "      <td>-1.0</td>\n",
       "      <td>-1.0</td>\n",
       "      <td>-1.0</td>\n",
       "      <td>-1.0</td>\n",
       "      <td>-1.0</td>\n",
       "      <td>...</td>\n",
       "      <td>-1.0</td>\n",
       "      <td>-1.0</td>\n",
       "      <td>-1.0</td>\n",
       "      <td>-1.0</td>\n",
       "      <td>-1.0</td>\n",
       "      <td>-1.0</td>\n",
       "      <td>-1.0</td>\n",
       "      <td>-1.0</td>\n",
       "      <td>-1.0</td>\n",
       "      <td>-1.0</td>\n",
       "    </tr>\n",
       "    <tr>\n",
       "      <th>1</th>\n",
       "      <td>1.0</td>\n",
       "      <td>-1.0</td>\n",
       "      <td>-1.0</td>\n",
       "      <td>-1.0</td>\n",
       "      <td>-1.0</td>\n",
       "      <td>-1.0</td>\n",
       "      <td>-1.0</td>\n",
       "      <td>-1.0</td>\n",
       "      <td>-1.0</td>\n",
       "      <td>-1.0</td>\n",
       "      <td>...</td>\n",
       "      <td>-1.0</td>\n",
       "      <td>-1.0</td>\n",
       "      <td>-1.0</td>\n",
       "      <td>-1.0</td>\n",
       "      <td>-1.0</td>\n",
       "      <td>-1.0</td>\n",
       "      <td>-1.0</td>\n",
       "      <td>-1.0</td>\n",
       "      <td>-1.0</td>\n",
       "      <td>-1.0</td>\n",
       "    </tr>\n",
       "    <tr>\n",
       "      <th>2</th>\n",
       "      <td>0.0</td>\n",
       "      <td>2.0</td>\n",
       "      <td>-1.0</td>\n",
       "      <td>-1.0</td>\n",
       "      <td>-1.0</td>\n",
       "      <td>-1.0</td>\n",
       "      <td>-1.0</td>\n",
       "      <td>-1.0</td>\n",
       "      <td>-1.0</td>\n",
       "      <td>-1.0</td>\n",
       "      <td>...</td>\n",
       "      <td>-1.0</td>\n",
       "      <td>-1.0</td>\n",
       "      <td>-1.0</td>\n",
       "      <td>-1.0</td>\n",
       "      <td>-1.0</td>\n",
       "      <td>-1.0</td>\n",
       "      <td>-1.0</td>\n",
       "      <td>-1.0</td>\n",
       "      <td>-1.0</td>\n",
       "      <td>-1.0</td>\n",
       "    </tr>\n",
       "    <tr>\n",
       "      <th>3</th>\n",
       "      <td>0.0</td>\n",
       "      <td>0.0</td>\n",
       "      <td>3.0</td>\n",
       "      <td>-1.0</td>\n",
       "      <td>-1.0</td>\n",
       "      <td>-1.0</td>\n",
       "      <td>-1.0</td>\n",
       "      <td>-1.0</td>\n",
       "      <td>-1.0</td>\n",
       "      <td>-1.0</td>\n",
       "      <td>...</td>\n",
       "      <td>-1.0</td>\n",
       "      <td>-1.0</td>\n",
       "      <td>-1.0</td>\n",
       "      <td>-1.0</td>\n",
       "      <td>-1.0</td>\n",
       "      <td>-1.0</td>\n",
       "      <td>-1.0</td>\n",
       "      <td>-1.0</td>\n",
       "      <td>-1.0</td>\n",
       "      <td>-1.0</td>\n",
       "    </tr>\n",
       "    <tr>\n",
       "      <th>4</th>\n",
       "      <td>1.0</td>\n",
       "      <td>-1.0</td>\n",
       "      <td>-1.0</td>\n",
       "      <td>-1.0</td>\n",
       "      <td>-1.0</td>\n",
       "      <td>-1.0</td>\n",
       "      <td>-1.0</td>\n",
       "      <td>-1.0</td>\n",
       "      <td>-1.0</td>\n",
       "      <td>-1.0</td>\n",
       "      <td>...</td>\n",
       "      <td>-1.0</td>\n",
       "      <td>-1.0</td>\n",
       "      <td>-1.0</td>\n",
       "      <td>-1.0</td>\n",
       "      <td>-1.0</td>\n",
       "      <td>-1.0</td>\n",
       "      <td>-1.0</td>\n",
       "      <td>-1.0</td>\n",
       "      <td>-1.0</td>\n",
       "      <td>-1.0</td>\n",
       "    </tr>\n",
       "    <tr>\n",
       "      <th>5</th>\n",
       "      <td>1.0</td>\n",
       "      <td>-1.0</td>\n",
       "      <td>-1.0</td>\n",
       "      <td>-1.0</td>\n",
       "      <td>-1.0</td>\n",
       "      <td>-1.0</td>\n",
       "      <td>-1.0</td>\n",
       "      <td>-1.0</td>\n",
       "      <td>-1.0</td>\n",
       "      <td>-1.0</td>\n",
       "      <td>...</td>\n",
       "      <td>-1.0</td>\n",
       "      <td>-1.0</td>\n",
       "      <td>-1.0</td>\n",
       "      <td>-1.0</td>\n",
       "      <td>-1.0</td>\n",
       "      <td>-1.0</td>\n",
       "      <td>-1.0</td>\n",
       "      <td>-1.0</td>\n",
       "      <td>-1.0</td>\n",
       "      <td>-1.0</td>\n",
       "    </tr>\n",
       "    <tr>\n",
       "      <th>6</th>\n",
       "      <td>1.0</td>\n",
       "      <td>-1.0</td>\n",
       "      <td>-1.0</td>\n",
       "      <td>-1.0</td>\n",
       "      <td>-1.0</td>\n",
       "      <td>-1.0</td>\n",
       "      <td>-1.0</td>\n",
       "      <td>-1.0</td>\n",
       "      <td>-1.0</td>\n",
       "      <td>-1.0</td>\n",
       "      <td>...</td>\n",
       "      <td>-1.0</td>\n",
       "      <td>-1.0</td>\n",
       "      <td>-1.0</td>\n",
       "      <td>-1.0</td>\n",
       "      <td>-1.0</td>\n",
       "      <td>-1.0</td>\n",
       "      <td>-1.0</td>\n",
       "      <td>-1.0</td>\n",
       "      <td>-1.0</td>\n",
       "      <td>-1.0</td>\n",
       "    </tr>\n",
       "    <tr>\n",
       "      <th>7</th>\n",
       "      <td>0.0</td>\n",
       "      <td>0.0</td>\n",
       "      <td>0.0</td>\n",
       "      <td>4.0</td>\n",
       "      <td>-1.0</td>\n",
       "      <td>-1.0</td>\n",
       "      <td>-1.0</td>\n",
       "      <td>-1.0</td>\n",
       "      <td>-1.0</td>\n",
       "      <td>-1.0</td>\n",
       "      <td>...</td>\n",
       "      <td>-1.0</td>\n",
       "      <td>-1.0</td>\n",
       "      <td>-1.0</td>\n",
       "      <td>-1.0</td>\n",
       "      <td>-1.0</td>\n",
       "      <td>-1.0</td>\n",
       "      <td>-1.0</td>\n",
       "      <td>-1.0</td>\n",
       "      <td>-1.0</td>\n",
       "      <td>-1.0</td>\n",
       "    </tr>\n",
       "    <tr>\n",
       "      <th>8</th>\n",
       "      <td>0.0</td>\n",
       "      <td>0.0</td>\n",
       "      <td>0.0</td>\n",
       "      <td>0.0</td>\n",
       "      <td>5.0</td>\n",
       "      <td>-1.0</td>\n",
       "      <td>-1.0</td>\n",
       "      <td>-1.0</td>\n",
       "      <td>-1.0</td>\n",
       "      <td>-1.0</td>\n",
       "      <td>...</td>\n",
       "      <td>-1.0</td>\n",
       "      <td>-1.0</td>\n",
       "      <td>-1.0</td>\n",
       "      <td>-1.0</td>\n",
       "      <td>-1.0</td>\n",
       "      <td>-1.0</td>\n",
       "      <td>-1.0</td>\n",
       "      <td>-1.0</td>\n",
       "      <td>-1.0</td>\n",
       "      <td>-1.0</td>\n",
       "    </tr>\n",
       "    <tr>\n",
       "      <th>9</th>\n",
       "      <td>0.0</td>\n",
       "      <td>0.0</td>\n",
       "      <td>0.0</td>\n",
       "      <td>0.0</td>\n",
       "      <td>5.0</td>\n",
       "      <td>-1.0</td>\n",
       "      <td>-1.0</td>\n",
       "      <td>-1.0</td>\n",
       "      <td>-1.0</td>\n",
       "      <td>-1.0</td>\n",
       "      <td>...</td>\n",
       "      <td>-1.0</td>\n",
       "      <td>-1.0</td>\n",
       "      <td>-1.0</td>\n",
       "      <td>-1.0</td>\n",
       "      <td>-1.0</td>\n",
       "      <td>-1.0</td>\n",
       "      <td>-1.0</td>\n",
       "      <td>-1.0</td>\n",
       "      <td>-1.0</td>\n",
       "      <td>-1.0</td>\n",
       "    </tr>\n",
       "  </tbody>\n",
       "</table>\n",
       "<p>10 rows × 26 columns</p>\n",
       "</div>"
      ],
      "text/plain": [
       "   main_category_0  main_category_1  main_category_2  main_category_3  \\\n",
       "0             -1.0             -1.0             -1.0             -1.0   \n",
       "1              1.0             -1.0             -1.0             -1.0   \n",
       "2              0.0              2.0             -1.0             -1.0   \n",
       "3              0.0              0.0              3.0             -1.0   \n",
       "4              1.0             -1.0             -1.0             -1.0   \n",
       "5              1.0             -1.0             -1.0             -1.0   \n",
       "6              1.0             -1.0             -1.0             -1.0   \n",
       "7              0.0              0.0              0.0              4.0   \n",
       "8              0.0              0.0              0.0              0.0   \n",
       "9              0.0              0.0              0.0              0.0   \n",
       "\n",
       "   main_category_4  main_category_5  main_category_6  main_category_7  \\\n",
       "0             -1.0             -1.0             -1.0             -1.0   \n",
       "1             -1.0             -1.0             -1.0             -1.0   \n",
       "2             -1.0             -1.0             -1.0             -1.0   \n",
       "3             -1.0             -1.0             -1.0             -1.0   \n",
       "4             -1.0             -1.0             -1.0             -1.0   \n",
       "5             -1.0             -1.0             -1.0             -1.0   \n",
       "6             -1.0             -1.0             -1.0             -1.0   \n",
       "7             -1.0             -1.0             -1.0             -1.0   \n",
       "8              5.0             -1.0             -1.0             -1.0   \n",
       "9              5.0             -1.0             -1.0             -1.0   \n",
       "\n",
       "   main_category_8  main_category_9  ...  main_category_16  main_category_17  \\\n",
       "0             -1.0             -1.0  ...              -1.0              -1.0   \n",
       "1             -1.0             -1.0  ...              -1.0              -1.0   \n",
       "2             -1.0             -1.0  ...              -1.0              -1.0   \n",
       "3             -1.0             -1.0  ...              -1.0              -1.0   \n",
       "4             -1.0             -1.0  ...              -1.0              -1.0   \n",
       "5             -1.0             -1.0  ...              -1.0              -1.0   \n",
       "6             -1.0             -1.0  ...              -1.0              -1.0   \n",
       "7             -1.0             -1.0  ...              -1.0              -1.0   \n",
       "8             -1.0             -1.0  ...              -1.0              -1.0   \n",
       "9             -1.0             -1.0  ...              -1.0              -1.0   \n",
       "\n",
       "   main_category_18  main_category_19  main_category_20  main_category_21  \\\n",
       "0              -1.0              -1.0              -1.0              -1.0   \n",
       "1              -1.0              -1.0              -1.0              -1.0   \n",
       "2              -1.0              -1.0              -1.0              -1.0   \n",
       "3              -1.0              -1.0              -1.0              -1.0   \n",
       "4              -1.0              -1.0              -1.0              -1.0   \n",
       "5              -1.0              -1.0              -1.0              -1.0   \n",
       "6              -1.0              -1.0              -1.0              -1.0   \n",
       "7              -1.0              -1.0              -1.0              -1.0   \n",
       "8              -1.0              -1.0              -1.0              -1.0   \n",
       "9              -1.0              -1.0              -1.0              -1.0   \n",
       "\n",
       "   main_category_22  main_category_23  main_category_24  main_category_25  \n",
       "0              -1.0              -1.0              -1.0              -1.0  \n",
       "1              -1.0              -1.0              -1.0              -1.0  \n",
       "2              -1.0              -1.0              -1.0              -1.0  \n",
       "3              -1.0              -1.0              -1.0              -1.0  \n",
       "4              -1.0              -1.0              -1.0              -1.0  \n",
       "5              -1.0              -1.0              -1.0              -1.0  \n",
       "6              -1.0              -1.0              -1.0              -1.0  \n",
       "7              -1.0              -1.0              -1.0              -1.0  \n",
       "8              -1.0              -1.0              -1.0              -1.0  \n",
       "9              -1.0              -1.0              -1.0              -1.0  \n",
       "\n",
       "[10 rows x 26 columns]"
      ]
     },
     "execution_count": 22,
     "metadata": {},
     "output_type": "execute_result"
    }
   ],
   "source": [
    "df_H.iloc[0:10, 15:]"
   ]
  },
  {
   "cell_type": "markdown",
   "metadata": {},
   "source": [
    "# Part II: Multivariative feature imputation\n"
   ]
  },
  {
   "cell_type": "code",
   "execution_count": 23,
   "metadata": {},
   "outputs": [],
   "source": [
    "# IterativeImputer class models each feature with missing values as a function of other features, \n",
    "# and uses that estimate for imputation. "
   ]
  },
  {
   "cell_type": "code",
   "execution_count": 24,
   "metadata": {},
   "outputs": [],
   "source": [
    "# Tools\n",
    "from sklearn.experimental import enable_iterative_imputer\n",
    "from sklearn.impute import IterativeImputer\n",
    "from sklearn.metrics import mean_squared_error\n",
    "from math import sqrt\n",
    "import statistics"
   ]
  },
  {
   "cell_type": "code",
   "execution_count": 25,
   "metadata": {
    "scrolled": true
   },
   "outputs": [
    {
     "data": {
      "text/plain": [
       "Text(0.5, 1, 'Correlation heatmap')"
      ]
     },
     "execution_count": 25,
     "metadata": {},
     "output_type": "execute_result"
    },
    {
     "data": {
      "image/png": "[encoded data removed]",
      "text/plain": [
       "<Figure size 576x288 with 2 Axes>"
      ]
     },
     "metadata": {
      "needs_background": "light"
     },
     "output_type": "display_data"
    }
   ],
   "source": [
    "fig, ax = plt.subplots(figsize = (8, 4))\n",
    "corr=df.iloc[:, [7, 9, 11]].corr()\n",
    "sns.heatmap(corr,\n",
    "            xticklabels=corr.columns,\n",
    "            yticklabels=corr.columns, annot=True, cmap = 'RdYlGn')\n",
    "ax.set_title(\"Correlation heatmap\")"
   ]
  },
  {
   "cell_type": "code",
   "execution_count": 26,
   "metadata": {},
   "outputs": [],
   "source": [
    "# Weakly correlated data, little chance of accurate inference"
   ]
  },
  {
   "cell_type": "markdown",
   "metadata": {},
   "source": [
    "### 1. Missing data in it_seller_rating column"
   ]
  },
  {
   "cell_type": "code",
   "execution_count": 27,
   "metadata": {},
   "outputs": [],
   "source": [
    "RMSE1 = []\n",
    "\n",
    "# limiting the set to numeric variables\n",
    "df_num = df[['price','it_seller_rating','it_quantity']]\n",
    "\n",
    "for i in range(10):\n",
    "    \n",
    "    df_test1 = df_num.copy()\n",
    "    \n",
    "    # removal of 10% of observations from the selected columns\n",
    "    to_miss = np.random.randint(df_test1.shape[0],size = math.ceil(0.1*df_test1.shape[0]))\n",
    "    df_test1.it_seller_rating.loc[to_miss] = np.nan\n",
    "    \n",
    "    # imputation\n",
    "    imp = IterativeImputer(max_iter=20)\n",
    "    impute = pd.DataFrame(imp.fit_transform(df_test1))\n",
    "    \n",
    "    # error calc.\n",
    "    RMSE1.append(mean_squared_error(impute, df_num, squared=False))"
   ]
  },
  {
   "cell_type": "code",
   "execution_count": 28,
   "metadata": {},
   "outputs": [
    {
     "data": {
      "text/plain": [
       "[6569.465991374537,\n",
       " 6582.755035855907,\n",
       " 6593.330365761267,\n",
       " 6523.248237853331,\n",
       " 6510.246629096116,\n",
       " 6636.152733110578,\n",
       " 6539.597950264159,\n",
       " 6569.71785725391,\n",
       " 6413.918597948456,\n",
       " 6445.970808567712]"
      ]
     },
     "execution_count": 28,
     "metadata": {},
     "output_type": "execute_result"
    }
   ],
   "source": [
    "# Results \n",
    "RMSE1"
   ]
  },
  {
   "cell_type": "code",
   "execution_count": 29,
   "metadata": {},
   "outputs": [
    {
     "data": {
      "text/plain": [
       "67.94490982777184"
      ]
     },
     "execution_count": 29,
     "metadata": {},
     "output_type": "execute_result"
    }
   ],
   "source": [
    "# Standard deviation\n",
    "deviation = statistics.stdev(RMSE1)\n",
    "deviation"
   ]
  },
  {
   "cell_type": "markdown",
   "metadata": {},
   "source": [
    "### 2. Missing data in it_seller_rating and it_quantity columns"
   ]
  },
  {
   "cell_type": "code",
   "execution_count": 30,
   "metadata": {},
   "outputs": [],
   "source": [
    "RMSE2 = []\n",
    "\n",
    "for i in range(10):\n",
    "    df_test2 = df_num.copy()\n",
    "\n",
    "    # removal of 10% of observations from the selected columns    \n",
    "    n = df_test2.shape[0]\n",
    "    to_miss1 = np.random.randint(n, size=math.ceil(0.1 * n))\n",
    "    to_miss2 = np.random.randint(n, size=math.ceil(0.1 * n))\n",
    "    df_test2.it_seller_rating.loc[to_miss1] = np.nan\n",
    "    df_test2.it_quantity.loc[to_miss2] = np.nan\n",
    "    \n",
    "    # imputation\n",
    "    imp = IterativeImputer(max_iter=20)\n",
    "    imputed = pd.DataFrame(imp.fit_transform(df_test2))\n",
    "    \n",
    "    # error calc.\n",
    "    RMSE2.append(mean_squared_error(imputed, df_num, squared=False))"
   ]
  },
  {
   "cell_type": "code",
   "execution_count": 31,
   "metadata": {},
   "outputs": [
    {
     "data": {
      "text/plain": [
       "[7609.938245958983,\n",
       " 7757.958789633712,\n",
       " 7710.906004373064,\n",
       " 7861.534399791587,\n",
       " 7747.048032927336,\n",
       " 7760.930240179184,\n",
       " 7783.611015832371,\n",
       " 7807.564532265433,\n",
       " 7834.988403674996,\n",
       " 7731.422166544365]"
      ]
     },
     "execution_count": 31,
     "metadata": {},
     "output_type": "execute_result"
    }
   ],
   "source": [
    "# Result \n",
    "RMSE2"
   ]
  },
  {
   "cell_type": "code",
   "execution_count": 32,
   "metadata": {},
   "outputs": [
    {
     "data": {
      "text/plain": [
       "70.44864559773937"
      ]
     },
     "execution_count": 32,
     "metadata": {},
     "output_type": "execute_result"
    }
   ],
   "source": [
    "# Standard deviation\n",
    "deviation = statistics.stdev(RMSE2)\n",
    "deviation"
   ]
  },
  {
   "cell_type": "markdown",
   "metadata": {},
   "source": [
    "### Conclusions"
   ]
  },
  {
   "cell_type": "code",
   "execution_count": 33,
   "metadata": {},
   "outputs": [
    {
     "data": {
      "image/png": "[encoded data removed]",
      "text/plain": [
       "<Figure size 864x576 with 1 Axes>"
      ]
     },
     "metadata": {
      "needs_background": "light"
     },
     "output_type": "display_data"
    }
   ],
   "source": [
    "plt.rcParams[\"figure.figsize\"] = (12,8)\n",
    "x = np.r_[1:11]\n",
    "\n",
    "fig,ax = plt.subplots()\n",
    "line1 = ax.plot(x,RMSE1, label='Missing data in 1 column', marker='o', linestyle = '--')\n",
    "line2 = ax.plot(x,RMSE2, label='Missing data in 2 columns', marker='o', linestyle = '--')\n",
    "legend = ax.legend(loc='upper right')\n",
    "plt.title('Summary chart')\n",
    "plt.show()"
   ]
  },
  {
   "cell_type": "markdown",
   "metadata": {},
   "source": [
    "According to intuition, the error when data in two columns is partially removed is greater than when deleting in one, however the standard deviation for both cases is comparable. Considering the magnitude of the error and the negligible correlation of variables, it can be stated that in both cases the method worked relatively well."
   ]
  }
 ],
 "metadata": {
  "kernelspec": {
   "display_name": "Python 3",
   "language": "python",
   "name": "python3"
  },
  "language_info": {
   "codemirror_mode": {
    "name": "ipython",
    "version": 3
   },
   "file_extension": ".py",
   "mimetype": "text/x-python",
   "name": "python",
   "nbconvert_exporter": "python",
   "pygments_lexer": "ipython3",
   "version": "3.7.5"
  }
 },
 "nbformat": 4,
 "nbformat_minor": 4
}
